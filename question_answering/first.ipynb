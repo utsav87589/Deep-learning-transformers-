{
 "cells": [
  {
   "cell_type": "markdown",
   "id": "9bdf682c",
   "metadata": {},
   "source": [
    "## Q&A using transformers"
   ]
  },
  {
   "cell_type": "markdown",
   "id": "75a5c75a",
   "metadata": {},
   "source": [
    "### already made model"
   ]
  },
  {
   "cell_type": "markdown",
   "id": "2dfe1e78",
   "metadata": {},
   "source": [
    "### model no. 1"
   ]
  },
  {
   "cell_type": "code",
   "execution_count": 2,
   "id": "95962d56",
   "metadata": {},
   "outputs": [],
   "source": [
    "from transformers import pipeline"
   ]
  },
  {
   "cell_type": "code",
   "execution_count": 3,
   "id": "31f1f6b3",
   "metadata": {},
   "outputs": [
    {
     "name": "stderr",
     "output_type": "stream",
     "text": [
      "c:\\Users\\lenovo\\anaconda3\\envs\\tfenv\\lib\\site-packages\\huggingface_hub\\file_download.py:143: UserWarning: `huggingface_hub` cache-system uses symlinks by default to efficiently store duplicated files but your machine does not support them in C:\\Users\\lenovo\\.cache\\huggingface\\hub\\models--distilbert-base-uncased-distilled-squad. Caching files will still work but in a degraded version that might require more space on your disk. This warning can be disabled by setting the `HF_HUB_DISABLE_SYMLINKS_WARNING` environment variable. For more details, see https://huggingface.co/docs/huggingface_hub/how-to-cache#limitations.\n",
      "To support symlinks on Windows, you either need to activate Developer Mode or to run Python as an administrator. In order to activate developer mode, see this article: https://docs.microsoft.com/en-us/windows/apps/get-started/enable-your-device-for-development\n",
      "  warnings.warn(message)\n",
      "Fetching 0 files: 0it [00:00, ?it/s]\n",
      "Fetching 1 files: 100%|██████████| 1/1 [00:00<?, ?it/s]\n",
      "Fetching 0 files: 0it [00:00, ?it/s]\n",
      "Device set to use cpu\n"
     ]
    }
   ],
   "source": [
    "qa_pipeline = pipeline('question-answering', model = 'distilbert-base-uncased-distilled-squad')"
   ]
  },
  {
   "cell_type": "code",
   "execution_count": 4,
   "id": "3d4dedb7",
   "metadata": {},
   "outputs": [],
   "source": [
    "context = \"\"\"\n",
    "The 2011 Cricket World Cup was the tenth Cricket World Cup. \n",
    "It was co-hosted by India, Sri Lanka, and Bangladesh. \n",
    "India won the tournament, defeating Sri Lanka by 6 wickets in the final.\n",
    "This was India's second World Cup win, after 1983.\n",
    "\"\"\"\n",
    "questions = [\n",
    "    'Who won the 2011 World Cup',\n",
    "    'Which nations hosted the world cup',\n",
    "    'How many times India won the world cup',\n",
    "    'Sri Lanka lost the final by how many wickets',\n",
    "    'Which was India first world cup win'\n",
    "]"
   ]
  },
  {
   "cell_type": "code",
   "execution_count": 7,
   "id": "ef1c8728",
   "metadata": {},
   "outputs": [
    {
     "name": "stdout",
     "output_type": "stream",
     "text": [
      "Q : Who won the 2011 World Cup\n",
      "Answers : {'score': 0.6390337543562055, 'start': 117, 'end': 122, 'answer': 'India'}\n",
      "\n",
      "Q : Which nations hosted the world cup\n",
      "Answers : {'score': 0.8990014791488647, 'start': 82, 'end': 114, 'answer': 'India, Sri Lanka, and Bangladesh'}\n",
      "\n",
      "Q : How many times India won the world cup\n",
      "Answers : {'score': 0.15648147463798523, 'start': 36, 'end': 41, 'answer': 'tenth'}\n",
      "\n",
      "Q : Sri Lanka lost the final by how many wickets\n",
      "Answers : {'score': 0.6850926876068115, 'start': 166, 'end': 167, 'answer': '6'}\n",
      "\n",
      "Q : Which was India first world cup win\n",
      "Answers : {'score': 0.11202867329120636, 'start': 5, 'end': 27, 'answer': '2011 Cricket World Cup'}\n",
      "\n"
     ]
    }
   ],
   "source": [
    "for q in questions : \n",
    "    result = qa_pipeline(question = q, context = context)\n",
    "    print(f\"Q : {q}\")\n",
    "    print(f\"Answers : {result}\\n\")"
   ]
  },
  {
   "cell_type": "code",
   "execution_count": 10,
   "id": "978164b0",
   "metadata": {},
   "outputs": [],
   "source": [
    "# for q in questions : \n",
    "#     results = qa_pipeline(question = q, context = context)\n",
    "#     print(f\"Quesstion : {q}\")\n",
    "#     print(f\"answer : {results['answer']}\\n\")\n",
    "#     print(type(result))"
   ]
  },
  {
   "cell_type": "markdown",
   "id": "965abd60",
   "metadata": {},
   "source": [
    "### model no. 2"
   ]
  },
  {
   "cell_type": "code",
   "execution_count": 11,
   "id": "50d82e70",
   "metadata": {},
   "outputs": [
    {
     "name": "stderr",
     "output_type": "stream",
     "text": [
      "c:\\Users\\lenovo\\anaconda3\\envs\\tfenv\\lib\\site-packages\\huggingface_hub\\file_download.py:143: UserWarning: `huggingface_hub` cache-system uses symlinks by default to efficiently store duplicated files but your machine does not support them in C:\\Users\\lenovo\\.cache\\huggingface\\hub\\models--bert-large-uncased-whole-word-masking-finetuned-squad. Caching files will still work but in a degraded version that might require more space on your disk. This warning can be disabled by setting the `HF_HUB_DISABLE_SYMLINKS_WARNING` environment variable. For more details, see https://huggingface.co/docs/huggingface_hub/how-to-cache#limitations.\n",
      "To support symlinks on Windows, you either need to activate Developer Mode or to run Python as an administrator. In order to activate developer mode, see this article: https://docs.microsoft.com/en-us/windows/apps/get-started/enable-your-device-for-development\n",
      "  warnings.warn(message)\n",
      "Some weights of the model checkpoint at bert-large-uncased-whole-word-masking-finetuned-squad were not used when initializing BertForQuestionAnswering: ['bert.pooler.dense.bias', 'bert.pooler.dense.weight']\n",
      "- This IS expected if you are initializing BertForQuestionAnswering from the checkpoint of a model trained on another task or with another architecture (e.g. initializing a BertForSequenceClassification model from a BertForPreTraining model).\n",
      "- This IS NOT expected if you are initializing BertForQuestionAnswering from the checkpoint of a model that you expect to be exactly identical (initializing a BertForSequenceClassification model from a BertForSequenceClassification model).\n",
      "Fetching 0 files: 0it [00:00, ?it/s]\n",
      "Fetching 1 files: 100%|██████████| 1/1 [00:00<?, ?it/s]\n",
      "Fetching 0 files: 0it [00:00, ?it/s]\n",
      "Device set to use cpu\n"
     ]
    }
   ],
   "source": [
    "qa_pipeline_2 = pipeline('question-answering', model = 'bert-large-uncased-whole-word-masking-finetuned-squad')"
   ]
  },
  {
   "cell_type": "code",
   "execution_count": 19,
   "id": "a16b0f19",
   "metadata": {},
   "outputs": [],
   "source": [
    "context = \"\"\"\n",
    "The 2011 Cricket World Cup was the tenth Cricket World Cup. \n",
    "It was co-hosted by India, Sri Lanka, and Bangladesh. \n",
    "India won the tournament, defeating Sri Lanka by 6 wickets in the final.\n",
    "This was India's second World Cup win, after 1983.\n",
    "\"\"\"\n",
    "questions = [\n",
    "    'Who won the 2011 World Cup',\n",
    "    'Which nations hosted the world cup',\n",
    "    'How many times India won the world cup',\n",
    "    'Sri Lanka lost the final by how many wickets',\n",
    "    'Which was India first world cup win'\n",
    "]"
   ]
  },
  {
   "cell_type": "code",
   "execution_count": 21,
   "id": "c93fc3a0",
   "metadata": {},
   "outputs": [
    {
     "name": "stdout",
     "output_type": "stream",
     "text": [
      "Question : Who won the 2011 World Cup\n",
      "results : {'score': 0.4508669339120388, 'start': 117, 'end': 122, 'answer': 'India'}\n",
      "\n",
      "Question : Which nations hosted the world cup\n",
      "results : {'score': 0.8851586580276489, 'start': 82, 'end': 114, 'answer': 'India, Sri Lanka, and Bangladesh'}\n",
      "\n",
      "Question : How many times India won the world cup\n",
      "results : {'score': 0.045896016061306, 'start': 5, 'end': 9, 'answer': '2011'}\n",
      "\n",
      "Question : Sri Lanka lost the final by how many wickets\n",
      "results : {'score': 0.6387227773666382, 'start': 166, 'end': 167, 'answer': '6'}\n",
      "\n",
      "Question : Which was India first world cup win\n",
      "results : {'score': 0.14250904321670532, 'start': 199, 'end': 239, 'answer': \"India's second World Cup win, after 1983\"}\n",
      "\n"
     ]
    }
   ],
   "source": [
    "for i in range(0, len(questions)) : \n",
    "    result = qa_pipeline_2(question = questions[i], context = context)\n",
    "    print(f\"Question : {questions[i]}\")\n",
    "    print(f\"results : {result}\\n\")"
   ]
  },
  {
   "cell_type": "code",
   "execution_count": 22,
   "id": "9f537d53",
   "metadata": {},
   "outputs": [
    {
     "name": "stdout",
     "output_type": "stream",
     "text": [
      "Q : Who won the 2011 World Cup\n",
      "Answers : {'score': 0.6390337543562055, 'start': 117, 'end': 122, 'answer': 'India'}\n",
      "\n",
      "Q : Which nations hosted the world cup\n",
      "Answers : {'score': 0.8990014791488647, 'start': 82, 'end': 114, 'answer': 'India, Sri Lanka, and Bangladesh'}\n",
      "\n",
      "Q : How many times India won the world cup\n",
      "Answers : {'score': 0.15648147463798523, 'start': 36, 'end': 41, 'answer': 'tenth'}\n",
      "\n",
      "Q : Sri Lanka lost the final by how many wickets\n",
      "Answers : {'score': 0.6850926876068115, 'start': 166, 'end': 167, 'answer': '6'}\n",
      "\n",
      "Q : Which was India first world cup win\n",
      "Answers : {'score': 0.11202867329120636, 'start': 5, 'end': 27, 'answer': '2011 Cricket World Cup'}\n",
      "\n"
     ]
    }
   ],
   "source": [
    "for q in questions : \n",
    "    result = qa_pipeline(question = q, context = context)\n",
    "    print(f\"Q : {q}\")\n",
    "    print(f\"Answers : {result}\\n\")"
   ]
  },
  {
   "cell_type": "code",
   "execution_count": null,
   "id": "408f5768",
   "metadata": {},
   "outputs": [],
   "source": []
  },
  {
   "cell_type": "code",
   "execution_count": null,
   "id": "6c9270ed",
   "metadata": {},
   "outputs": [],
   "source": []
  },
  {
   "cell_type": "code",
   "execution_count": null,
   "id": "e5c9e7a3",
   "metadata": {},
   "outputs": [],
   "source": []
  },
  {
   "cell_type": "code",
   "execution_count": null,
   "id": "412bac3d",
   "metadata": {},
   "outputs": [],
   "source": []
  },
  {
   "cell_type": "code",
   "execution_count": null,
   "id": "11be7747",
   "metadata": {},
   "outputs": [],
   "source": []
  },
  {
   "cell_type": "code",
   "execution_count": null,
   "id": "7c47027c",
   "metadata": {},
   "outputs": [],
   "source": []
  },
  {
   "cell_type": "code",
   "execution_count": null,
   "id": "31c6f862",
   "metadata": {},
   "outputs": [],
   "source": []
  },
  {
   "cell_type": "code",
   "execution_count": null,
   "id": "b043829d",
   "metadata": {},
   "outputs": [],
   "source": []
  },
  {
   "cell_type": "code",
   "execution_count": null,
   "id": "e74c1bd6",
   "metadata": {},
   "outputs": [],
   "source": []
  },
  {
   "cell_type": "code",
   "execution_count": null,
   "id": "5bdb90ed",
   "metadata": {},
   "outputs": [],
   "source": []
  },
  {
   "cell_type": "code",
   "execution_count": null,
   "id": "8ae1f319",
   "metadata": {},
   "outputs": [],
   "source": []
  },
  {
   "cell_type": "code",
   "execution_count": null,
   "id": "bc0f4552",
   "metadata": {},
   "outputs": [],
   "source": []
  },
  {
   "cell_type": "code",
   "execution_count": null,
   "id": "bb36fea8",
   "metadata": {},
   "outputs": [],
   "source": []
  },
  {
   "cell_type": "code",
   "execution_count": null,
   "id": "892dc003",
   "metadata": {},
   "outputs": [],
   "source": []
  },
  {
   "cell_type": "code",
   "execution_count": null,
   "id": "dea5dec8",
   "metadata": {},
   "outputs": [],
   "source": []
  },
  {
   "cell_type": "code",
   "execution_count": null,
   "id": "eed20fba",
   "metadata": {},
   "outputs": [],
   "source": []
  },
  {
   "cell_type": "code",
   "execution_count": null,
   "id": "a32a8a02",
   "metadata": {},
   "outputs": [],
   "source": []
  },
  {
   "cell_type": "code",
   "execution_count": null,
   "id": "1bd465b0",
   "metadata": {},
   "outputs": [],
   "source": []
  },
  {
   "cell_type": "code",
   "execution_count": null,
   "id": "fa6b688a",
   "metadata": {},
   "outputs": [],
   "source": []
  },
  {
   "cell_type": "code",
   "execution_count": null,
   "id": "aa7de7d4",
   "metadata": {},
   "outputs": [],
   "source": []
  },
  {
   "cell_type": "code",
   "execution_count": null,
   "id": "4e5b4968",
   "metadata": {},
   "outputs": [],
   "source": []
  }
 ],
 "metadata": {
  "kernelspec": {
   "display_name": "tfenv",
   "language": "python",
   "name": "python3"
  },
  "language_info": {
   "codemirror_mode": {
    "name": "ipython",
    "version": 3
   },
   "file_extension": ".py",
   "mimetype": "text/x-python",
   "name": "python",
   "nbconvert_exporter": "python",
   "pygments_lexer": "ipython3",
   "version": "3.10.18"
  }
 },
 "nbformat": 4,
 "nbformat_minor": 5
}
