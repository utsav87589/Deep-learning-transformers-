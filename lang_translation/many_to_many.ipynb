{
 "cells": [
  {
   "cell_type": "markdown",
   "id": "724de4b7",
   "metadata": {},
   "source": [
    "## Many to many languages"
   ]
  },
  {
   "cell_type": "code",
   "execution_count": 1,
   "id": "a7a150eb",
   "metadata": {},
   "outputs": [],
   "source": [
    "import pandas as pd\n",
    "import numpy as np"
   ]
  },
  {
   "cell_type": "code",
   "execution_count": 39,
   "id": "f073a7e3",
   "metadata": {},
   "outputs": [],
   "source": [
    "path = 'random-texts.txt'\n",
    "sentences = []"
   ]
  },
  {
   "cell_type": "code",
   "execution_count": 40,
   "id": "9175434d",
   "metadata": {},
   "outputs": [],
   "source": [
    "with open(path, 'r', encoding = 'UTF-8') as f : \n",
    "    lines = f.read().split('\\n')\n",
    "\n",
    "    for line in lines[0:100] :\n",
    "        sentences.append(line)"
   ]
  },
  {
   "cell_type": "code",
   "execution_count": 41,
   "id": "24bfa717",
   "metadata": {},
   "outputs": [
    {
     "name": "stdout",
     "output_type": "stream",
     "text": [
      "['Hola, ¿cómo estás?', \"Je m'appelle Marie.\", 'Guten Morgen, mein Freund.', '私は学生です。', 'Здравствуйте, как ваши дела?', 'Ciao, mi chiamo Luca.', 'مرحبا بك في مدينتي.', '너는 어디에 가니?', 'मैं आज खुश हूँ।', 'J’ai besoin d’un café.', 'Danke schön für deine Hilfe.', '今日はとても暑いです。', 'У меня нет времени.', 'Arrivederci e buona fortuna.', 'كيف حال الطقس اليوم؟', '내 이름은 수진입니다.', 'यह मेरी किताब है।', 'Je voudrais deux croissants.', 'Ich habe Hunger.', '明日は学校に行きます。', 'Он живет в Москве.', 'Mi casa es tu casa.', 'السلام عليكم ورحمة الله.', '나는 피자를 좋아해요.', 'मुझे संगीत सुनना पसंद है।', 'Où est la gare, s’il vous plaît ?', 'Ich liebe dich.', '今、何時ですか。', 'Она работает врачом.', 'Buenas noches, hasta mañana.', 'لدي قطة سوداء.', '오늘 날씨가 좋아요.', 'मुझे पानी चाहिए।', 'C’est un très beau pays.', 'Ich habe kein Geld.', '明日一緒に遊びませんか。', 'Я хочу поехать в Париж.', '¿Dónde está el baño?', 'كيف يمكنني مساعدتك؟', '우리는 친구입니다.', 'यह बहुत स्वादिष्ट है।', 'Pouvez-vous répéter, s’il vous plaît ?', 'Ich komme aus Deutschland.', '東京はとても大きい都市です。', 'Он читает интересную книгу.', 'Me gusta viajar en tren.', 'شكرا جزيلا.', '오늘은 금요일이에요.', 'मुझे तुम्हारी याद आती है।', 'Quel âge as-tu ?', 'Ich gehe ins Kino.', 'すみません、これはいくらですか。', 'У тебя есть брат или сестра?', 'Estoy aprendiendo español.', 'الطائرة تصل غدا.', '한국 음식은 맛있어요.', 'यह मेरा परिवार है।', 'Je suis très fatigué.', 'Ich spreche ein bisschen Englisch.', '今週末に会いましょう。', 'Мы любим музыку.', 'El sol brilla hoy.', 'عندي موعد مهم.', '저는 학생입니다.', 'क्या तुम घर पर हो?', 'Je travaille à l’université.', 'Ich fahre morgen nach Berlin.', '公園で散歩しましょう。', 'Это хороший фильм.', 'Estoy muy ocupado ahora.', 'أنا من مصر.', '저 책은 어디에 있어요?', 'आज बहुत ठंड है।', 'C’est mon anniversaire.', 'Ich habe zwei Katzen.', '明日テストがあります。', 'У нас нет вопросов.', 'Me encanta bailar.', 'أريد كوبًا من الشاي.', '나는 축구를 잘 못해요.', 'मैं देर से आया।', 'Comment tu t’appelles ?', 'Ich bin müde.', '日本の食べ物が好きです。', 'Он часто ходит в спортзал.', 'Buenos días, señora.', 'هل تحب القراءة؟', '나는 영화를 보고 있어요.', 'यह एक अच्छा विचार है।', 'Je vais à la bibliothèque.', 'Ich brauche deine Hilfe.', '明日は雨が降るでしょう。', 'У меня много друзей.', 'Estoy cansado, necesito dormir.', 'الطقس جميل اليوم.', '저는 매일 운동해요.', 'मैं स्कूल जा रहा हूँ।', 'Tu es très gentil.', 'Ich wohne in einer kleinen Stadt.', '今日は楽しかったです。']\n"
     ]
    }
   ],
   "source": [
    "print(sentences)"
   ]
  },
  {
   "cell_type": "code",
   "execution_count": 42,
   "id": "b507cc00",
   "metadata": {},
   "outputs": [
    {
     "name": "stdout",
     "output_type": "stream",
     "text": [
      "100\n"
     ]
    }
   ],
   "source": [
    "print(len(sentences))"
   ]
  },
  {
   "cell_type": "markdown",
   "id": "fcefd9e1",
   "metadata": {},
   "source": [
    "### transformers and detecting the language"
   ]
  },
  {
   "cell_type": "code",
   "execution_count": 11,
   "id": "72b88939",
   "metadata": {},
   "outputs": [],
   "source": [
    "from transformers import pipeline"
   ]
  },
  {
   "cell_type": "code",
   "execution_count": 12,
   "id": "c08c30e2",
   "metadata": {},
   "outputs": [
    {
     "name": "stderr",
     "output_type": "stream",
     "text": [
      "Device set to use cpu\n"
     ]
    }
   ],
   "source": [
    "language_detector = pipeline('text-classification', model = 'papluca/xlm-roberta-base-language-detection')"
   ]
  },
  {
   "cell_type": "code",
   "execution_count": 44,
   "id": "f380efcb",
   "metadata": {},
   "outputs": [
    {
     "name": "stdout",
     "output_type": "stream",
     "text": [
      "Hola, ¿cómo estás? ==> es\n",
      "Je m'appelle Marie. ==> fr\n",
      "Guten Morgen, mein Freund. ==> de\n",
      "私は学生です。 ==> ja\n",
      "Здравствуйте, как ваши дела? ==> ru\n",
      "Ciao, mi chiamo Luca. ==> it\n",
      "مرحبا بك في مدينتي. ==> ar\n",
      "너는 어디에 가니? ==> ja\n",
      "मैं आज खुश हूँ। ==> hi\n",
      "J’ai besoin d’un café. ==> fr\n",
      "Danke schön für deine Hilfe. ==> de\n",
      "今日はとても暑いです。 ==> ja\n",
      "У меня нет времени. ==> ru\n",
      "Arrivederci e buona fortuna. ==> it\n",
      "كيف حال الطقس اليوم؟ ==> ar\n",
      "내 이름은 수진입니다. ==> ja\n",
      "यह मेरी किताब है। ==> hi\n",
      "Je voudrais deux croissants. ==> fr\n",
      "Ich habe Hunger. ==> de\n",
      "明日は学校に行きます。 ==> ja\n",
      "Он живет в Москве. ==> ru\n",
      "Mi casa es tu casa. ==> it\n",
      "السلام عليكم ورحمة الله. ==> ar\n",
      "나는 피자를 좋아해요. ==> ja\n",
      "मुझे संगीत सुनना पसंद है। ==> hi\n",
      "Où est la gare, s’il vous plaît ? ==> fr\n",
      "Ich liebe dich. ==> de\n",
      "今、何時ですか。 ==> ja\n",
      "Она работает врачом. ==> ru\n",
      "Buenas noches, hasta mañana. ==> es\n",
      "لدي قطة سوداء. ==> ar\n",
      "오늘 날씨가 좋아요. ==> ja\n",
      "मुझे पानी चाहिए। ==> hi\n",
      "C’est un très beau pays. ==> fr\n",
      "Ich habe kein Geld. ==> de\n",
      "明日一緒に遊びませんか。 ==> ja\n",
      "Я хочу поехать в Париж. ==> ru\n",
      "¿Dónde está el baño? ==> es\n",
      "كيف يمكنني مساعدتك؟ ==> ar\n",
      "우리는 친구입니다. ==> ja\n",
      "यह बहुत स्वादिष्ट है। ==> hi\n",
      "Pouvez-vous répéter, s’il vous plaît ? ==> fr\n",
      "Ich komme aus Deutschland. ==> de\n",
      "東京はとても大きい都市です。 ==> ja\n",
      "Он читает интересную книгу. ==> ru\n",
      "Me gusta viajar en tren. ==> pt\n",
      "شكرا جزيلا. ==> ar\n",
      "오늘은 금요일이에요. ==> ja\n",
      "मुझे तुम्हारी याद आती है। ==> hi\n",
      "Quel âge as-tu ? ==> fr\n",
      "Ich gehe ins Kino. ==> de\n",
      "すみません、これはいくらですか。 ==> ja\n",
      "У тебя есть брат или сестра? ==> ru\n",
      "Estoy aprendiendo español. ==> es\n",
      "الطائرة تصل غدا. ==> ar\n",
      "한국 음식은 맛있어요. ==> ja\n",
      "यह मेरा परिवार है। ==> hi\n",
      "Je suis très fatigué. ==> fr\n",
      "Ich spreche ein bisschen Englisch. ==> de\n",
      "今週末に会いましょう。 ==> ja\n",
      "Мы любим музыку. ==> ru\n",
      "El sol brilla hoy. ==> es\n",
      "عندي موعد مهم. ==> ar\n",
      "저는 학생입니다. ==> ja\n",
      "क्या तुम घर पर हो? ==> hi\n",
      "Je travaille à l’université. ==> fr\n",
      "Ich fahre morgen nach Berlin. ==> de\n",
      "公園で散歩しましょう。 ==> ja\n",
      "Это хороший фильм. ==> ru\n",
      "Estoy muy ocupado ahora. ==> es\n",
      "أنا من مصر. ==> ar\n",
      "저 책은 어디에 있어요? ==> ja\n",
      "आज बहुत ठंड है। ==> hi\n",
      "C’est mon anniversaire. ==> it\n",
      "Ich habe zwei Katzen. ==> de\n",
      "明日テストがあります。 ==> ja\n",
      "У нас нет вопросов. ==> ru\n",
      "Me encanta bailar. ==> pt\n",
      "أريد كوبًا من الشاي. ==> ar\n",
      "나는 축구를 잘 못해요. ==> ja\n",
      "मैं देर से आया। ==> hi\n",
      "Comment tu t’appelles ? ==> fr\n",
      "Ich bin müde. ==> de\n",
      "日本の食べ物が好きです。 ==> ja\n",
      "Он часто ходит в спортзал. ==> ru\n",
      "Buenos días, señora. ==> es\n",
      "هل تحب القراءة؟ ==> ar\n",
      "나는 영화를 보고 있어요. ==> ja\n",
      "यह एक अच्छा विचार है। ==> hi\n",
      "Je vais à la bibliothèque. ==> fr\n",
      "Ich brauche deine Hilfe. ==> de\n",
      "明日は雨が降るでしょう。 ==> ja\n",
      "У меня много друзей. ==> ru\n",
      "Estoy cansado, necesito dormir. ==> es\n",
      "الطقس جميل اليوم. ==> ar\n",
      "저는 매일 운동해요. ==> ja\n",
      "मैं स्कूल जा रहा हूँ। ==> hi\n",
      "Tu es très gentil. ==> fr\n",
      "Ich wohne in einer kleinen Stadt. ==> de\n",
      "今日は楽しかったです。 ==> ja\n"
     ]
    }
   ],
   "source": [
    "detected_languages = []\n",
    "for i in range(0, len(sentences)) : \n",
    "    languages = language_detector(sentences)[i]['label']\n",
    "    detected_languages.append(languages)\n",
    "    print(f\"{sentences[i]} ==> {detected_languages[i]}\")"
   ]
  },
  {
   "cell_type": "code",
   "execution_count": 46,
   "id": "4f2238b7",
   "metadata": {},
   "outputs": [
    {
     "data": {
      "text/plain": [
       "['es',\n",
       " 'fr',\n",
       " 'de',\n",
       " 'ja',\n",
       " 'ru',\n",
       " 'it',\n",
       " 'ar',\n",
       " 'ja',\n",
       " 'hi',\n",
       " 'fr',\n",
       " 'de',\n",
       " 'ja',\n",
       " 'ru',\n",
       " 'it',\n",
       " 'ar',\n",
       " 'ja',\n",
       " 'hi',\n",
       " 'fr',\n",
       " 'de',\n",
       " 'ja',\n",
       " 'ru',\n",
       " 'it',\n",
       " 'ar',\n",
       " 'ja',\n",
       " 'hi',\n",
       " 'fr',\n",
       " 'de',\n",
       " 'ja',\n",
       " 'ru',\n",
       " 'es',\n",
       " 'ar',\n",
       " 'ja',\n",
       " 'hi',\n",
       " 'fr',\n",
       " 'de',\n",
       " 'ja',\n",
       " 'ru',\n",
       " 'es',\n",
       " 'ar',\n",
       " 'ja',\n",
       " 'hi',\n",
       " 'fr',\n",
       " 'de',\n",
       " 'ja',\n",
       " 'ru',\n",
       " 'pt',\n",
       " 'ar',\n",
       " 'ja',\n",
       " 'hi',\n",
       " 'fr',\n",
       " 'de',\n",
       " 'ja',\n",
       " 'ru',\n",
       " 'es',\n",
       " 'ar',\n",
       " 'ja',\n",
       " 'hi',\n",
       " 'fr',\n",
       " 'de',\n",
       " 'ja',\n",
       " 'ru',\n",
       " 'es',\n",
       " 'ar',\n",
       " 'ja',\n",
       " 'hi',\n",
       " 'fr',\n",
       " 'de',\n",
       " 'ja',\n",
       " 'ru',\n",
       " 'es',\n",
       " 'ar',\n",
       " 'ja',\n",
       " 'hi',\n",
       " 'it',\n",
       " 'de',\n",
       " 'ja',\n",
       " 'ru',\n",
       " 'pt',\n",
       " 'ar',\n",
       " 'ja',\n",
       " 'hi',\n",
       " 'fr',\n",
       " 'de',\n",
       " 'ja',\n",
       " 'ru',\n",
       " 'es',\n",
       " 'ar',\n",
       " 'ja',\n",
       " 'hi',\n",
       " 'fr',\n",
       " 'de',\n",
       " 'ja',\n",
       " 'ru',\n",
       " 'es',\n",
       " 'ar',\n",
       " 'ja',\n",
       " 'hi',\n",
       " 'fr',\n",
       " 'de',\n",
       " 'ja']"
      ]
     },
     "execution_count": 46,
     "metadata": {},
     "output_type": "execute_result"
    }
   ],
   "source": [
    "detected_languages"
   ]
  },
  {
   "cell_type": "markdown",
   "id": "46f8e8d2",
   "metadata": {},
   "source": [
    "### translator"
   ]
  },
  {
   "cell_type": "code",
   "execution_count": 45,
   "id": "93c50248",
   "metadata": {},
   "outputs": [
    {
     "name": "stderr",
     "output_type": "stream",
     "text": [
      "Device set to use cpu\n"
     ]
    }
   ],
   "source": [
    "translator = pipeline('translation', model = 'facebook/mbart-large-50-many-to-many-mmt')"
   ]
  },
  {
   "cell_type": "code",
   "execution_count": 57,
   "id": "4b213528",
   "metadata": {},
   "outputs": [
    {
     "name": "stderr",
     "output_type": "stream",
     "text": [
      "Device set to use cpu\n"
     ]
    }
   ],
   "source": [
    "translator = pipeline(\n",
    "    \"translation\",\n",
    "    model=\"facebook/m2m100_418M\",\n",
    "    tokenizer=\"facebook/m2m100_418M\"\n",
    ")"
   ]
  },
  {
   "cell_type": "code",
   "execution_count": 60,
   "id": "0d62306c",
   "metadata": {},
   "outputs": [
    {
     "name": "stdout",
     "output_type": "stream",
     "text": [
      "Hola, ¿cómo estás? :: [{'translation_text': 'नमस्ते, आप कैसे हैं?'}]\n"
     ]
    }
   ],
   "source": [
    "translated_sentence = translator(sentences[0], src_lang = detected_languages[0], tgt_lang = 'hi')\n",
    "print(f\"{sentences[0]} :: {translated_sentence}\")"
   ]
  },
  {
   "cell_type": "code",
   "execution_count": 63,
   "id": "19c5501b",
   "metadata": {},
   "outputs": [
    {
     "name": "stdout",
     "output_type": "stream",
     "text": [
      "Ich gehe ins Kino. :: [{'translation_text': 'मैं सिनेमा में जाऊँगा।'}]\n"
     ]
    }
   ],
   "source": [
    "translated_sentence = translator(sentences[50], src_lang = detected_languages[50], tgt_lang = 'hi')\n",
    "print(f\"{sentences[50]} :: {translated_sentence}\")"
   ]
  },
  {
   "cell_type": "code",
   "execution_count": null,
   "id": "2c1e56d9",
   "metadata": {},
   "outputs": [],
   "source": []
  },
  {
   "cell_type": "code",
   "execution_count": null,
   "id": "bc6e7ace",
   "metadata": {},
   "outputs": [],
   "source": []
  },
  {
   "cell_type": "code",
   "execution_count": null,
   "id": "aa2ce371",
   "metadata": {},
   "outputs": [],
   "source": []
  },
  {
   "cell_type": "code",
   "execution_count": null,
   "id": "77b66a7b",
   "metadata": {},
   "outputs": [],
   "source": []
  },
  {
   "cell_type": "code",
   "execution_count": null,
   "id": "deaffd82",
   "metadata": {},
   "outputs": [],
   "source": []
  },
  {
   "cell_type": "code",
   "execution_count": null,
   "id": "233faee0",
   "metadata": {},
   "outputs": [],
   "source": []
  },
  {
   "cell_type": "code",
   "execution_count": null,
   "id": "5b4fc2f6",
   "metadata": {},
   "outputs": [],
   "source": []
  },
  {
   "cell_type": "code",
   "execution_count": null,
   "id": "5ce02db7",
   "metadata": {},
   "outputs": [],
   "source": []
  },
  {
   "cell_type": "code",
   "execution_count": null,
   "id": "d7d1cf15",
   "metadata": {},
   "outputs": [],
   "source": []
  },
  {
   "cell_type": "code",
   "execution_count": null,
   "id": "ec68ce57",
   "metadata": {},
   "outputs": [],
   "source": []
  },
  {
   "cell_type": "code",
   "execution_count": null,
   "id": "19b2302c",
   "metadata": {},
   "outputs": [],
   "source": []
  },
  {
   "cell_type": "code",
   "execution_count": null,
   "id": "c4fb9c7b",
   "metadata": {},
   "outputs": [],
   "source": []
  },
  {
   "cell_type": "code",
   "execution_count": null,
   "id": "ac0657d6",
   "metadata": {},
   "outputs": [],
   "source": []
  }
 ],
 "metadata": {
  "kernelspec": {
   "display_name": "tfenv",
   "language": "python",
   "name": "python3"
  },
  "language_info": {
   "codemirror_mode": {
    "name": "ipython",
    "version": 3
   },
   "file_extension": ".py",
   "mimetype": "text/x-python",
   "name": "python",
   "nbconvert_exporter": "python",
   "pygments_lexer": "ipython3",
   "version": "3.10.18"
  }
 },
 "nbformat": 4,
 "nbformat_minor": 5
}
