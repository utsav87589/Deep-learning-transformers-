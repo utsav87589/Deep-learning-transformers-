{
 "cells": [
  {
   "cell_type": "markdown",
   "id": "b72e9a14",
   "metadata": {},
   "source": [
    "## English to many"
   ]
  },
  {
   "cell_type": "code",
   "execution_count": 1,
   "id": "d82813ba",
   "metadata": {},
   "outputs": [],
   "source": [
    "import pandas as pd\n",
    "import numpy as np"
   ]
  },
  {
   "cell_type": "code",
   "execution_count": 6,
   "id": "0d78629d",
   "metadata": {},
   "outputs": [],
   "source": [
    "eng_texts, fra_texts = [], []\n",
    "path = 'words.txt'"
   ]
  },
  {
   "cell_type": "code",
   "execution_count": 7,
   "id": "bf5a7e6f",
   "metadata": {},
   "outputs": [],
   "source": [
    "with open (path, 'r', encoding = 'UTF-8') as f :\n",
    "    lines = f.read().split('\\n')\n",
    "\n",
    "    for line in lines[10000:15000] :\n",
    "        eng_words, fra_words = line.split('\\t')[:2]\n",
    "\n",
    "        eng_texts.append(eng_words)\n",
    "        fra_texts.append(fra_words)"
   ]
  },
  {
   "cell_type": "markdown",
   "id": "0937e954",
   "metadata": {},
   "source": [
    "### auto language detector and converter"
   ]
  },
  {
   "cell_type": "code",
   "execution_count": 13,
   "id": "12a1364c",
   "metadata": {},
   "outputs": [],
   "source": [
    "from transformers import pipeline"
   ]
  },
  {
   "cell_type": "code",
   "execution_count": 14,
   "id": "3f3c96c9",
   "metadata": {},
   "outputs": [
    {
     "name": "stderr",
     "output_type": "stream",
     "text": [
      "c:\\Users\\lenovo\\anaconda3\\envs\\tfenv\\lib\\site-packages\\huggingface_hub\\file_download.py:143: UserWarning: `huggingface_hub` cache-system uses symlinks by default to efficiently store duplicated files but your machine does not support them in C:\\Users\\lenovo\\.cache\\huggingface\\hub\\models--papluca--xlm-roberta-base-language-detection. Caching files will still work but in a degraded version that might require more space on your disk. This warning can be disabled by setting the `HF_HUB_DISABLE_SYMLINKS_WARNING` environment variable. For more details, see https://huggingface.co/docs/huggingface_hub/how-to-cache#limitations.\n",
      "To support symlinks on Windows, you either need to activate Developer Mode or to run Python as an administrator. In order to activate developer mode, see this article: https://docs.microsoft.com/en-us/windows/apps/get-started/enable-your-device-for-development\n",
      "  warnings.warn(message)\n",
      "Xet Storage is enabled for this repo, but the 'hf_xet' package is not installed. Falling back to regular HTTP download. For better performance, install the package with: `pip install huggingface_hub[hf_xet]` or `pip install hf_xet`\n",
      "Xet Storage is enabled for this repo, but the 'hf_xet' package is not installed. Falling back to regular HTTP download. For better performance, install the package with: `pip install huggingface_hub[hf_xet]` or `pip install hf_xet`\n",
      "Device set to use cpu\n"
     ]
    }
   ],
   "source": [
    "lang_detector = pipeline('text-classification', model = 'papluca/xlm-roberta-base-language-detection')"
   ]
  },
  {
   "cell_type": "code",
   "execution_count": 19,
   "id": "d2dd4121",
   "metadata": {},
   "outputs": [
    {
     "name": "stderr",
     "output_type": "stream",
     "text": [
      "Device set to use cpu\n"
     ]
    }
   ],
   "source": [
    "translator = pipeline('translation', model = 'facebook/mbart-large-50-many-to-many-mmt')"
   ]
  },
  {
   "cell_type": "code",
   "execution_count": 20,
   "id": "871b67e5",
   "metadata": {},
   "outputs": [],
   "source": [
    "language_detected = lang_detector(eng_texts)[0]['label']"
   ]
  },
  {
   "cell_type": "code",
   "execution_count": 21,
   "id": "59ec13a4",
   "metadata": {},
   "outputs": [
    {
     "name": "stdout",
     "output_type": "stream",
     "text": [
      "en\n"
     ]
    }
   ],
   "source": [
    "print(language_detected)"
   ]
  },
  {
   "cell_type": "code",
   "execution_count": 25,
   "id": "c02554c9",
   "metadata": {},
   "outputs": [],
   "source": [
    "sample_texts = ['Ich möchte bestellen',\n",
    "                 'Die Rechnung, bitte', \n",
    "                 'Wie viel kostet das',\n",
    "                 'Ich bin lost',\n",
    "                 'Bonjour', \n",
    "                 'Vous allez bien',\n",
    "                 'I do not wanna wait']"
   ]
  },
  {
   "cell_type": "code",
   "execution_count": 43,
   "id": "4025bf03",
   "metadata": {},
   "outputs": [],
   "source": [
    "languages = []"
   ]
  },
  {
   "cell_type": "code",
   "execution_count": 44,
   "id": "3e1ce736",
   "metadata": {},
   "outputs": [
    {
     "name": "stdout",
     "output_type": "stream",
     "text": [
      "text :: Ich möchte bestellen, language detected :: de[i]\n",
      "text :: Die Rechnung, bitte, language detected :: de[i]\n",
      "text :: Wie viel kostet das, language detected :: de[i]\n",
      "text :: Ich bin lost, language detected :: sw[i]\n",
      "text :: Bonjour, language detected :: fr[i]\n",
      "text :: Vous allez bien, language detected :: fr[i]\n",
      "text :: I do not wanna wait, language detected :: en[i]\n"
     ]
    }
   ],
   "source": [
    "for i in range(0, len(sample_texts)) : \n",
    "    language_detected = lang_detector(sample_texts)[i]['label']\n",
    "    print(f\"text :: {sample_texts[i]}, language detected :: {language_detected}[i]\")\n",
    "    languages.append(language_detected)"
   ]
  },
  {
   "cell_type": "code",
   "execution_count": 37,
   "id": "603410ba",
   "metadata": {},
   "outputs": [
    {
     "name": "stderr",
     "output_type": "stream",
     "text": [
      "c:\\Users\\lenovo\\anaconda3\\envs\\tfenv\\lib\\site-packages\\huggingface_hub\\file_download.py:143: UserWarning: `huggingface_hub` cache-system uses symlinks by default to efficiently store duplicated files but your machine does not support them in C:\\Users\\lenovo\\.cache\\huggingface\\hub\\models--facebook--m2m100_418M. Caching files will still work but in a degraded version that might require more space on your disk. This warning can be disabled by setting the `HF_HUB_DISABLE_SYMLINKS_WARNING` environment variable. For more details, see https://huggingface.co/docs/huggingface_hub/how-to-cache#limitations.\n",
      "To support symlinks on Windows, you either need to activate Developer Mode or to run Python as an administrator. In order to activate developer mode, see this article: https://docs.microsoft.com/en-us/windows/apps/get-started/enable-your-device-for-development\n",
      "  warnings.warn(message)\n",
      "Xet Storage is enabled for this repo, but the 'hf_xet' package is not installed. Falling back to regular HTTP download. For better performance, install the package with: `pip install huggingface_hub[hf_xet]` or `pip install hf_xet`\n",
      "Xet Storage is enabled for this repo, but the 'hf_xet' package is not installed. Falling back to regular HTTP download. For better performance, install the package with: `pip install huggingface_hub[hf_xet]` or `pip install hf_xet`\n",
      "Xet Storage is enabled for this repo, but the 'hf_xet' package is not installed. Falling back to regular HTTP download. For better performance, install the package with: `pip install huggingface_hub[hf_xet]` or `pip install hf_xet`\n",
      "Device set to use cpu\n"
     ]
    }
   ],
   "source": [
    "translator = pipeline(\n",
    "    \"translation\",\n",
    "    model=\"facebook/m2m100_418M\",\n",
    "    tokenizer=\"facebook/m2m100_418M\"\n",
    ")"
   ]
  },
  {
   "cell_type": "code",
   "execution_count": 49,
   "id": "5ec56c35",
   "metadata": {},
   "outputs": [
    {
     "name": "stdout",
     "output_type": "stream",
     "text": [
      "Ich möchte bestellen ==> (in english) {'translation_text': 'I want to order'}\n",
      "Die Rechnung, bitte ==> (in english) {'translation_text': 'The bill, please.'}\n",
      "Wie viel kostet das ==> (in english) {'translation_text': 'How much it costs'}\n",
      "Ich bin lost ==> (in english) {'translation_text': 'I was lost.'}\n",
      "Bonjour ==> (in english) {'translation_text': 'Welcome to'}\n",
      "Vous allez bien ==> (in english) {'translation_text': 'You are well'}\n",
      "I do not wanna wait ==> (in english) {'translation_text': \"I don't want to wait\"}\n"
     ]
    }
   ],
   "source": [
    "for i in range(0, len(sample_texts)) : \n",
    "    translation = translator(sample_texts, src_lang = languages[i], tgt_lang = 'en')\n",
    "    print(f\"{sample_texts[i]} ==> (in english) {translation[i]}\")"
   ]
  },
  {
   "cell_type": "code",
   "execution_count": null,
   "id": "10780e14",
   "metadata": {},
   "outputs": [],
   "source": []
  },
  {
   "cell_type": "code",
   "execution_count": null,
   "id": "3888e644",
   "metadata": {},
   "outputs": [],
   "source": []
  },
  {
   "cell_type": "code",
   "execution_count": null,
   "id": "b1ddf3b8",
   "metadata": {},
   "outputs": [],
   "source": []
  },
  {
   "cell_type": "code",
   "execution_count": null,
   "id": "e1e66aaa",
   "metadata": {},
   "outputs": [],
   "source": []
  },
  {
   "cell_type": "code",
   "execution_count": null,
   "id": "c7ea0392",
   "metadata": {},
   "outputs": [],
   "source": []
  },
  {
   "cell_type": "code",
   "execution_count": null,
   "id": "cc239309",
   "metadata": {},
   "outputs": [],
   "source": []
  },
  {
   "cell_type": "code",
   "execution_count": null,
   "id": "599eb1b7",
   "metadata": {},
   "outputs": [],
   "source": []
  },
  {
   "cell_type": "code",
   "execution_count": null,
   "id": "3375205e",
   "metadata": {},
   "outputs": [],
   "source": []
  },
  {
   "cell_type": "code",
   "execution_count": null,
   "id": "5da6a08a",
   "metadata": {},
   "outputs": [],
   "source": []
  },
  {
   "cell_type": "code",
   "execution_count": null,
   "id": "8089b3b3",
   "metadata": {},
   "outputs": [],
   "source": []
  },
  {
   "cell_type": "code",
   "execution_count": null,
   "id": "a8244632",
   "metadata": {},
   "outputs": [],
   "source": []
  },
  {
   "cell_type": "code",
   "execution_count": null,
   "id": "037dbb3f",
   "metadata": {},
   "outputs": [],
   "source": []
  },
  {
   "cell_type": "code",
   "execution_count": null,
   "id": "4a5550de",
   "metadata": {},
   "outputs": [],
   "source": []
  },
  {
   "cell_type": "code",
   "execution_count": null,
   "id": "caa8133d",
   "metadata": {},
   "outputs": [],
   "source": []
  }
 ],
 "metadata": {
  "kernelspec": {
   "display_name": "tfenv",
   "language": "python",
   "name": "python3"
  },
  "language_info": {
   "codemirror_mode": {
    "name": "ipython",
    "version": 3
   },
   "file_extension": ".py",
   "mimetype": "text/x-python",
   "name": "python",
   "nbconvert_exporter": "python",
   "pygments_lexer": "ipython3",
   "version": "3.10.18"
  }
 },
 "nbformat": 4,
 "nbformat_minor": 5
}
