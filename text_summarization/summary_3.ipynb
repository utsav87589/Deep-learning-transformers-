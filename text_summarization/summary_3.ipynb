{
 "cells": [
  {
   "cell_type": "markdown",
   "id": "ad6e9d0a",
   "metadata": {},
   "source": [
    "## Text summarization"
   ]
  },
  {
   "cell_type": "code",
   "execution_count": 2,
   "id": "5a265790",
   "metadata": {},
   "outputs": [],
   "source": [
    "import pandas as pd\n",
    "import numpy as np\n",
    "from datasets import Dataset"
   ]
  },
  {
   "cell_type": "markdown",
   "id": "3d753cab",
   "metadata": {},
   "source": [
    "### training data"
   ]
  },
  {
   "cell_type": "code",
   "execution_count": null,
   "id": "6165bf7c",
   "metadata": {},
   "outputs": [
    {
     "data": {
      "text/html": [
       "<div>\n",
       "<style scoped>\n",
       "    .dataframe tbody tr th:only-of-type {\n",
       "        vertical-align: middle;\n",
       "    }\n",
       "\n",
       "    .dataframe tbody tr th {\n",
       "        vertical-align: top;\n",
       "    }\n",
       "\n",
       "    .dataframe thead th {\n",
       "        text-align: right;\n",
       "    }\n",
       "</style>\n",
       "<table border=\"1\" class=\"dataframe\">\n",
       "  <thead>\n",
       "    <tr style=\"text-align: right;\">\n",
       "      <th></th>\n",
       "      <th>author</th>\n",
       "      <th>date</th>\n",
       "      <th>headlines</th>\n",
       "      <th>read_more</th>\n",
       "      <th>text</th>\n",
       "      <th>ctext</th>\n",
       "    </tr>\n",
       "  </thead>\n",
       "  <tbody>\n",
       "    <tr>\n",
       "      <th>0</th>\n",
       "      <td>Chhavi Tyagi</td>\n",
       "      <td>03 Aug 2017,Thursday</td>\n",
       "      <td>Daman &amp; Diu revokes mandatory Rakshabandhan in...</td>\n",
       "      <td>http://www.hindustantimes.com/india-news/raksh...</td>\n",
       "      <td>The Administration of Union Territory Daman an...</td>\n",
       "      <td>The Daman and Diu administration on Wednesday ...</td>\n",
       "    </tr>\n",
       "    <tr>\n",
       "      <th>1</th>\n",
       "      <td>Daisy Mowke</td>\n",
       "      <td>03 Aug 2017,Thursday</td>\n",
       "      <td>Malaika slams user who trolled her for 'divorc...</td>\n",
       "      <td>http://www.hindustantimes.com/bollywood/malaik...</td>\n",
       "      <td>Malaika Arora slammed an Instagram user who tr...</td>\n",
       "      <td>From her special numbers to TV?appearances, Bo...</td>\n",
       "    </tr>\n",
       "    <tr>\n",
       "      <th>2</th>\n",
       "      <td>Arshiya Chopra</td>\n",
       "      <td>03 Aug 2017,Thursday</td>\n",
       "      <td>'Virgin' now corrected to 'Unmarried' in IGIMS...</td>\n",
       "      <td>http://www.hindustantimes.com/patna/bihar-igim...</td>\n",
       "      <td>The Indira Gandhi Institute of Medical Science...</td>\n",
       "      <td>The Indira Gandhi Institute of Medical Science...</td>\n",
       "    </tr>\n",
       "    <tr>\n",
       "      <th>3</th>\n",
       "      <td>Sumedha Sehra</td>\n",
       "      <td>03 Aug 2017,Thursday</td>\n",
       "      <td>Aaj aapne pakad liya: LeT man Dujana before be...</td>\n",
       "      <td>http://indiatoday.intoday.in/story/abu-dujana-...</td>\n",
       "      <td>Lashkar-e-Taiba's Kashmir commander Abu Dujana...</td>\n",
       "      <td>Lashkar-e-Taiba's Kashmir commander Abu Dujana...</td>\n",
       "    </tr>\n",
       "    <tr>\n",
       "      <th>4</th>\n",
       "      <td>Aarushi Maheshwari</td>\n",
       "      <td>03 Aug 2017,Thursday</td>\n",
       "      <td>Hotel staff to get training to spot signs of s...</td>\n",
       "      <td>http://indiatoday.intoday.in/story/sex-traffic...</td>\n",
       "      <td>Hotels in Maharashtra will train their staff t...</td>\n",
       "      <td>Hotels in Mumbai and other Indian cities are t...</td>\n",
       "    </tr>\n",
       "  </tbody>\n",
       "</table>\n",
       "</div>"
      ],
      "text/plain": [
       "               author                  date  \\\n",
       "0        Chhavi Tyagi  03 Aug 2017,Thursday   \n",
       "1         Daisy Mowke  03 Aug 2017,Thursday   \n",
       "2      Arshiya Chopra  03 Aug 2017,Thursday   \n",
       "3       Sumedha Sehra  03 Aug 2017,Thursday   \n",
       "4  Aarushi Maheshwari  03 Aug 2017,Thursday   \n",
       "\n",
       "                                           headlines  \\\n",
       "0  Daman & Diu revokes mandatory Rakshabandhan in...   \n",
       "1  Malaika slams user who trolled her for 'divorc...   \n",
       "2  'Virgin' now corrected to 'Unmarried' in IGIMS...   \n",
       "3  Aaj aapne pakad liya: LeT man Dujana before be...   \n",
       "4  Hotel staff to get training to spot signs of s...   \n",
       "\n",
       "                                           read_more  \\\n",
       "0  http://www.hindustantimes.com/india-news/raksh...   \n",
       "1  http://www.hindustantimes.com/bollywood/malaik...   \n",
       "2  http://www.hindustantimes.com/patna/bihar-igim...   \n",
       "3  http://indiatoday.intoday.in/story/abu-dujana-...   \n",
       "4  http://indiatoday.intoday.in/story/sex-traffic...   \n",
       "\n",
       "                                                text  \\\n",
       "0  The Administration of Union Territory Daman an...   \n",
       "1  Malaika Arora slammed an Instagram user who tr...   \n",
       "2  The Indira Gandhi Institute of Medical Science...   \n",
       "3  Lashkar-e-Taiba's Kashmir commander Abu Dujana...   \n",
       "4  Hotels in Maharashtra will train their staff t...   \n",
       "\n",
       "                                               ctext  \n",
       "0  The Daman and Diu administration on Wednesday ...  \n",
       "1  From her special numbers to TV?appearances, Bo...  \n",
       "2  The Indira Gandhi Institute of Medical Science...  \n",
       "3  Lashkar-e-Taiba's Kashmir commander Abu Dujana...  \n",
       "4  Hotels in Mumbai and other Indian cities are t...  "
      ]
     },
     "execution_count": 6,
     "metadata": {},
     "output_type": "execute_result"
    }
   ],
   "source": [
    "df = pd.read_csv('news_summary.csv')\n",
    "df.head()"
   ]
  },
  {
   "cell_type": "code",
   "execution_count": 7,
   "id": "0abc329f",
   "metadata": {},
   "outputs": [
    {
     "data": {
      "text/html": [
       "<div>\n",
       "<style scoped>\n",
       "    .dataframe tbody tr th:only-of-type {\n",
       "        vertical-align: middle;\n",
       "    }\n",
       "\n",
       "    .dataframe tbody tr th {\n",
       "        vertical-align: top;\n",
       "    }\n",
       "\n",
       "    .dataframe thead th {\n",
       "        text-align: right;\n",
       "    }\n",
       "</style>\n",
       "<table border=\"1\" class=\"dataframe\">\n",
       "  <thead>\n",
       "    <tr style=\"text-align: right;\">\n",
       "      <th></th>\n",
       "      <th>headlines</th>\n",
       "      <th>text</th>\n",
       "    </tr>\n",
       "  </thead>\n",
       "  <tbody>\n",
       "    <tr>\n",
       "      <th>0</th>\n",
       "      <td>Daman &amp; Diu revokes mandatory Rakshabandhan in...</td>\n",
       "      <td>The Administration of Union Territory Daman an...</td>\n",
       "    </tr>\n",
       "    <tr>\n",
       "      <th>1</th>\n",
       "      <td>Malaika slams user who trolled her for 'divorc...</td>\n",
       "      <td>Malaika Arora slammed an Instagram user who tr...</td>\n",
       "    </tr>\n",
       "    <tr>\n",
       "      <th>2</th>\n",
       "      <td>'Virgin' now corrected to 'Unmarried' in IGIMS...</td>\n",
       "      <td>The Indira Gandhi Institute of Medical Science...</td>\n",
       "    </tr>\n",
       "    <tr>\n",
       "      <th>3</th>\n",
       "      <td>Aaj aapne pakad liya: LeT man Dujana before be...</td>\n",
       "      <td>Lashkar-e-Taiba's Kashmir commander Abu Dujana...</td>\n",
       "    </tr>\n",
       "    <tr>\n",
       "      <th>4</th>\n",
       "      <td>Hotel staff to get training to spot signs of s...</td>\n",
       "      <td>Hotels in Maharashtra will train their staff t...</td>\n",
       "    </tr>\n",
       "  </tbody>\n",
       "</table>\n",
       "</div>"
      ],
      "text/plain": [
       "                                           headlines  \\\n",
       "0  Daman & Diu revokes mandatory Rakshabandhan in...   \n",
       "1  Malaika slams user who trolled her for 'divorc...   \n",
       "2  'Virgin' now corrected to 'Unmarried' in IGIMS...   \n",
       "3  Aaj aapne pakad liya: LeT man Dujana before be...   \n",
       "4  Hotel staff to get training to spot signs of s...   \n",
       "\n",
       "                                                text  \n",
       "0  The Administration of Union Territory Daman an...  \n",
       "1  Malaika Arora slammed an Instagram user who tr...  \n",
       "2  The Indira Gandhi Institute of Medical Science...  \n",
       "3  Lashkar-e-Taiba's Kashmir commander Abu Dujana...  \n",
       "4  Hotels in Maharashtra will train their staff t...  "
      ]
     },
     "execution_count": 7,
     "metadata": {},
     "output_type": "execute_result"
    }
   ],
   "source": [
    "df.drop(['author', 'date', 'read_more', 'ctext'], axis = 1, inplace = True)\n",
    "df.head()"
   ]
  },
  {
   "cell_type": "code",
   "execution_count": 9,
   "id": "f94f3026",
   "metadata": {},
   "outputs": [
    {
     "name": "stdout",
     "output_type": "stream",
     "text": [
      "60 :: 361\n"
     ]
    }
   ],
   "source": [
    "print(f\"{len(df['headlines'][1])} :: {len(df['text'][1])}\")"
   ]
  },
  {
   "cell_type": "code",
   "execution_count": 10,
   "id": "89e344ac",
   "metadata": {},
   "outputs": [],
   "source": [
    "df_train = Dataset.from_pandas(df)"
   ]
  },
  {
   "cell_type": "code",
   "execution_count": 11,
   "id": "e7ca66bd",
   "metadata": {},
   "outputs": [
    {
     "data": {
      "text/plain": [
       "Dataset({\n",
       "    features: ['headlines', 'text'],\n",
       "    num_rows: 4514\n",
       "})"
      ]
     },
     "execution_count": 11,
     "metadata": {},
     "output_type": "execute_result"
    }
   ],
   "source": [
    "df_train"
   ]
  },
  {
   "cell_type": "markdown",
   "id": "5e1e0ba1",
   "metadata": {},
   "source": [
    "### testing data"
   ]
  },
  {
   "cell_type": "code",
   "execution_count": 12,
   "id": "be7e12f5",
   "metadata": {},
   "outputs": [
    {
     "data": {
      "text/html": [
       "<div>\n",
       "<style scoped>\n",
       "    .dataframe tbody tr th:only-of-type {\n",
       "        vertical-align: middle;\n",
       "    }\n",
       "\n",
       "    .dataframe tbody tr th {\n",
       "        vertical-align: top;\n",
       "    }\n",
       "\n",
       "    .dataframe thead th {\n",
       "        text-align: right;\n",
       "    }\n",
       "</style>\n",
       "<table border=\"1\" class=\"dataframe\">\n",
       "  <thead>\n",
       "    <tr style=\"text-align: right;\">\n",
       "      <th></th>\n",
       "      <th>headlines</th>\n",
       "      <th>text</th>\n",
       "    </tr>\n",
       "  </thead>\n",
       "  <tbody>\n",
       "    <tr>\n",
       "      <th>0</th>\n",
       "      <td>upGrad learner switches to career in ML &amp; Al w...</td>\n",
       "      <td>Saurav Kant, an alumnus of upGrad and IIIT-B's...</td>\n",
       "    </tr>\n",
       "    <tr>\n",
       "      <th>1</th>\n",
       "      <td>Delhi techie wins free food from Swiggy for on...</td>\n",
       "      <td>Kunal Shah's credit card bill payment platform...</td>\n",
       "    </tr>\n",
       "    <tr>\n",
       "      <th>2</th>\n",
       "      <td>New Zealand end Rohit Sharma-led India's 12-ma...</td>\n",
       "      <td>New Zealand defeated India by 8 wickets in the...</td>\n",
       "    </tr>\n",
       "    <tr>\n",
       "      <th>3</th>\n",
       "      <td>Aegon life iTerm insurance plan helps customer...</td>\n",
       "      <td>With Aegon Life iTerm Insurance plan, customer...</td>\n",
       "    </tr>\n",
       "    <tr>\n",
       "      <th>4</th>\n",
       "      <td>Have known Hirani for yrs, what if MeToo claim...</td>\n",
       "      <td>Speaking about the sexual harassment allegatio...</td>\n",
       "    </tr>\n",
       "  </tbody>\n",
       "</table>\n",
       "</div>"
      ],
      "text/plain": [
       "                                           headlines  \\\n",
       "0  upGrad learner switches to career in ML & Al w...   \n",
       "1  Delhi techie wins free food from Swiggy for on...   \n",
       "2  New Zealand end Rohit Sharma-led India's 12-ma...   \n",
       "3  Aegon life iTerm insurance plan helps customer...   \n",
       "4  Have known Hirani for yrs, what if MeToo claim...   \n",
       "\n",
       "                                                text  \n",
       "0  Saurav Kant, an alumnus of upGrad and IIIT-B's...  \n",
       "1  Kunal Shah's credit card bill payment platform...  \n",
       "2  New Zealand defeated India by 8 wickets in the...  \n",
       "3  With Aegon Life iTerm Insurance plan, customer...  \n",
       "4  Speaking about the sexual harassment allegatio...  "
      ]
     },
     "execution_count": 12,
     "metadata": {},
     "output_type": "execute_result"
    }
   ],
   "source": [
    "df_2 = pd.read_csv('news_summary_more.csv')\n",
    "df_2.head()"
   ]
  },
  {
   "cell_type": "code",
   "execution_count": 14,
   "id": "e7a6e7e2",
   "metadata": {},
   "outputs": [],
   "source": [
    "df_2 = df_2.head(500)"
   ]
  },
  {
   "cell_type": "code",
   "execution_count": 15,
   "id": "3f16e03a",
   "metadata": {},
   "outputs": [
    {
     "data": {
      "text/html": [
       "<div>\n",
       "<style scoped>\n",
       "    .dataframe tbody tr th:only-of-type {\n",
       "        vertical-align: middle;\n",
       "    }\n",
       "\n",
       "    .dataframe tbody tr th {\n",
       "        vertical-align: top;\n",
       "    }\n",
       "\n",
       "    .dataframe thead th {\n",
       "        text-align: right;\n",
       "    }\n",
       "</style>\n",
       "<table border=\"1\" class=\"dataframe\">\n",
       "  <thead>\n",
       "    <tr style=\"text-align: right;\">\n",
       "      <th></th>\n",
       "      <th>headlines</th>\n",
       "      <th>text</th>\n",
       "    </tr>\n",
       "  </thead>\n",
       "  <tbody>\n",
       "    <tr>\n",
       "      <th>0</th>\n",
       "      <td>upGrad learner switches to career in ML &amp; Al w...</td>\n",
       "      <td>Saurav Kant, an alumnus of upGrad and IIIT-B's...</td>\n",
       "    </tr>\n",
       "    <tr>\n",
       "      <th>1</th>\n",
       "      <td>Delhi techie wins free food from Swiggy for on...</td>\n",
       "      <td>Kunal Shah's credit card bill payment platform...</td>\n",
       "    </tr>\n",
       "    <tr>\n",
       "      <th>2</th>\n",
       "      <td>New Zealand end Rohit Sharma-led India's 12-ma...</td>\n",
       "      <td>New Zealand defeated India by 8 wickets in the...</td>\n",
       "    </tr>\n",
       "    <tr>\n",
       "      <th>3</th>\n",
       "      <td>Aegon life iTerm insurance plan helps customer...</td>\n",
       "      <td>With Aegon Life iTerm Insurance plan, customer...</td>\n",
       "    </tr>\n",
       "    <tr>\n",
       "      <th>4</th>\n",
       "      <td>Have known Hirani for yrs, what if MeToo claim...</td>\n",
       "      <td>Speaking about the sexual harassment allegatio...</td>\n",
       "    </tr>\n",
       "    <tr>\n",
       "      <th>...</th>\n",
       "      <td>...</td>\n",
       "      <td>...</td>\n",
       "    </tr>\n",
       "    <tr>\n",
       "      <th>495</th>\n",
       "      <td>WhatsApp testing additional 'Media' menu featu...</td>\n",
       "      <td>According to WABetaInfo, WhatsApp is testing n...</td>\n",
       "    </tr>\n",
       "    <tr>\n",
       "      <th>496</th>\n",
       "      <td>Priyanka Gandhi has bipolar disorder, beats up...</td>\n",
       "      <td>Talking about Priyanka Gandhi Vadra entering a...</td>\n",
       "    </tr>\n",
       "    <tr>\n",
       "      <th>497</th>\n",
       "      <td>Shivpal Yadav to contest 2019 LS polls from UP...</td>\n",
       "      <td>Pragatisheel Samajwadi Party (Lohia) chief Shi...</td>\n",
       "    </tr>\n",
       "    <tr>\n",
       "      <th>498</th>\n",
       "      <td>Nearly 4,500 cases pending per High Court judg...</td>\n",
       "      <td>According to the National Judicial Data Grid, ...</td>\n",
       "    </tr>\n",
       "    <tr>\n",
       "      <th>499</th>\n",
       "      <td>Pune ward boy films woman undressing for MRI s...</td>\n",
       "      <td>A ward boy of a Pune hospital has been arreste...</td>\n",
       "    </tr>\n",
       "  </tbody>\n",
       "</table>\n",
       "<p>500 rows × 2 columns</p>\n",
       "</div>"
      ],
      "text/plain": [
       "                                             headlines  \\\n",
       "0    upGrad learner switches to career in ML & Al w...   \n",
       "1    Delhi techie wins free food from Swiggy for on...   \n",
       "2    New Zealand end Rohit Sharma-led India's 12-ma...   \n",
       "3    Aegon life iTerm insurance plan helps customer...   \n",
       "4    Have known Hirani for yrs, what if MeToo claim...   \n",
       "..                                                 ...   \n",
       "495  WhatsApp testing additional 'Media' menu featu...   \n",
       "496  Priyanka Gandhi has bipolar disorder, beats up...   \n",
       "497  Shivpal Yadav to contest 2019 LS polls from UP...   \n",
       "498  Nearly 4,500 cases pending per High Court judg...   \n",
       "499  Pune ward boy films woman undressing for MRI s...   \n",
       "\n",
       "                                                  text  \n",
       "0    Saurav Kant, an alumnus of upGrad and IIIT-B's...  \n",
       "1    Kunal Shah's credit card bill payment platform...  \n",
       "2    New Zealand defeated India by 8 wickets in the...  \n",
       "3    With Aegon Life iTerm Insurance plan, customer...  \n",
       "4    Speaking about the sexual harassment allegatio...  \n",
       "..                                                 ...  \n",
       "495  According to WABetaInfo, WhatsApp is testing n...  \n",
       "496  Talking about Priyanka Gandhi Vadra entering a...  \n",
       "497  Pragatisheel Samajwadi Party (Lohia) chief Shi...  \n",
       "498  According to the National Judicial Data Grid, ...  \n",
       "499  A ward boy of a Pune hospital has been arreste...  \n",
       "\n",
       "[500 rows x 2 columns]"
      ]
     },
     "execution_count": 15,
     "metadata": {},
     "output_type": "execute_result"
    }
   ],
   "source": [
    "df_2"
   ]
  },
  {
   "cell_type": "code",
   "execution_count": 19,
   "id": "0a4d39c5",
   "metadata": {},
   "outputs": [
    {
     "name": "stdout",
     "output_type": "stream",
     "text": [
      "65 :: 375\n"
     ]
    }
   ],
   "source": [
    "print(f\"{len(df_2['headlines'][0])} :: {len(df_2['text'][0])}\")"
   ]
  },
  {
   "cell_type": "code",
   "execution_count": 20,
   "id": "2b21bdec",
   "metadata": {},
   "outputs": [
    {
     "data": {
      "text/plain": [
       "Dataset({\n",
       "    features: ['headlines', 'text'],\n",
       "    num_rows: 500\n",
       "})"
      ]
     },
     "execution_count": 20,
     "metadata": {},
     "output_type": "execute_result"
    }
   ],
   "source": [
    "df_test = Dataset.from_pandas(df_2)\n",
    "df_test"
   ]
  },
  {
   "cell_type": "markdown",
   "id": "f9b91d39",
   "metadata": {},
   "source": [
    "### loading the transformer and the tokens"
   ]
  },
  {
   "cell_type": "code",
   "execution_count": 21,
   "id": "3f6c608b",
   "metadata": {},
   "outputs": [],
   "source": [
    "from transformers import AutoTokenizer, AutoModelForSeq2SeqLM, Trainer, TrainingArguments, DataCollatorForSeq2Seq"
   ]
  },
  {
   "cell_type": "code",
   "execution_count": 24,
   "id": "d8d3c215",
   "metadata": {},
   "outputs": [],
   "source": [
    "model_name = 'facebook/bart-base'\n",
    "tokenizer = AutoTokenizer.from_pretrained(model_name)\n",
    "model = AutoModelForSeq2SeqLM.from_pretrained(model_name)"
   ]
  },
  {
   "cell_type": "code",
   "execution_count": 25,
   "id": "940c0158",
   "metadata": {},
   "outputs": [],
   "source": [
    "max_input_len = 512\n",
    "max_target_len = 90"
   ]
  },
  {
   "cell_type": "code",
   "execution_count": 26,
   "id": "4d7e3720",
   "metadata": {},
   "outputs": [],
   "source": [
    "def preprocessor(data) : \n",
    "    model_inputs = tokenizer(\n",
    "        data['headlines'], max_length = max_input_len, truncation = True\n",
    "    )\n",
    "\n",
    "    labels = tokenizer(\n",
    "        data['text'], max_length = max_target_len, truncation = True\n",
    "    )\n",
    "\n",
    "    model_inputs['labels'] = labels['input_ids']\n",
    "\n",
    "    return model_inputs"
   ]
  },
  {
   "cell_type": "code",
   "execution_count": 28,
   "id": "a3e2fb47",
   "metadata": {},
   "outputs": [
    {
     "name": "stderr",
     "output_type": "stream",
     "text": [
      "Map: 100%|██████████| 4514/4514 [00:00<00:00, 7292.78 examples/s]\n",
      "Map: 100%|██████████| 500/500 [00:00<00:00, 10883.33 examples/s]\n"
     ]
    }
   ],
   "source": [
    "train_data = df_train.map(preprocessor, batched = True)\n",
    "test_data = df_test.map(preprocessor, batched = True)"
   ]
  },
  {
   "cell_type": "markdown",
   "id": "4283dd7d",
   "metadata": {},
   "source": [
    "### training parameters and model training"
   ]
  },
  {
   "cell_type": "code",
   "execution_count": 30,
   "id": "79a6926c",
   "metadata": {},
   "outputs": [],
   "source": [
    "data_collator = DataCollatorForSeq2Seq(tokenizer, model = model)"
   ]
  },
  {
   "cell_type": "code",
   "execution_count": 29,
   "id": "4306209b",
   "metadata": {},
   "outputs": [],
   "source": [
    "training_args = TrainingArguments(\n",
    "    output_dir = './results_3',\n",
    "    eval_strategy = 'epoch',\n",
    "    learning_rate = 2e-5,\n",
    "    per_device_eval_batch_size = 64,\n",
    "    per_device_train_batch_size = 64,\n",
    "    weight_decay = 0.01,\n",
    "    save_total_limit = 2,\n",
    "    num_train_epochs = 1,\n",
    "    do_predict = True,\n",
    "    logging_dir = './logs_3'\n",
    ")"
   ]
  },
  {
   "cell_type": "code",
   "execution_count": 31,
   "id": "379728d4",
   "metadata": {},
   "outputs": [
    {
     "name": "stderr",
     "output_type": "stream",
     "text": [
      "C:\\Users\\lenovo\\AppData\\Local\\Temp\\ipykernel_32228\\3719110222.py:1: FutureWarning: `tokenizer` is deprecated and will be removed in version 5.0.0 for `Trainer.__init__`. Use `processing_class` instead.\n",
      "  trainer = Trainer(\n"
     ]
    }
   ],
   "source": [
    "trainer = Trainer(\n",
    "    args = training_args,\n",
    "    model = model,\n",
    "    tokenizer = tokenizer,\n",
    "    eval_dataset = train_data,\n",
    "    train_dataset = test_data,\n",
    "    data_collator = data_collator\n",
    ")"
   ]
  },
  {
   "cell_type": "code",
   "execution_count": 32,
   "id": "3d12b11f",
   "metadata": {},
   "outputs": [
    {
     "name": "stderr",
     "output_type": "stream",
     "text": [
      "c:\\Users\\lenovo\\anaconda3\\envs\\tfenv\\lib\\site-packages\\torch\\utils\\data\\dataloader.py:666: UserWarning: 'pin_memory' argument is set as true but no accelerator is found, then device pinned memory won't be used.\n",
      "  warnings.warn(warn_msg)\n"
     ]
    },
    {
     "data": {
      "text/html": [
       "\n",
       "    <div>\n",
       "      \n",
       "      <progress value='8' max='8' style='width:300px; height:20px; vertical-align: middle;'></progress>\n",
       "      [8/8 07:22, Epoch 1/1]\n",
       "    </div>\n",
       "    <table border=\"1\" class=\"dataframe\">\n",
       "  <thead>\n",
       " <tr style=\"text-align: left;\">\n",
       "      <th>Epoch</th>\n",
       "      <th>Training Loss</th>\n",
       "      <th>Validation Loss</th>\n",
       "    </tr>\n",
       "  </thead>\n",
       "  <tbody>\n",
       "    <tr>\n",
       "      <td>1</td>\n",
       "      <td>No log</td>\n",
       "      <td>3.010814</td>\n",
       "    </tr>\n",
       "  </tbody>\n",
       "</table><p>"
      ],
      "text/plain": [
       "<IPython.core.display.HTML object>"
      ]
     },
     "metadata": {},
     "output_type": "display_data"
    },
    {
     "name": "stderr",
     "output_type": "stream",
     "text": [
      "c:\\Users\\lenovo\\anaconda3\\envs\\tfenv\\lib\\site-packages\\transformers\\modeling_utils.py:4034: UserWarning: Moving the following attributes in the config to the generation config: {'early_stopping': True, 'num_beams': 4, 'no_repeat_ngram_size': 3, 'forced_bos_token_id': 0}. You are seeing this warning because you've set generation parameters in the model config, as opposed to in the generation config.\n",
      "  warnings.warn(\n",
      "c:\\Users\\lenovo\\anaconda3\\envs\\tfenv\\lib\\site-packages\\torch\\utils\\data\\dataloader.py:666: UserWarning: 'pin_memory' argument is set as true but no accelerator is found, then device pinned memory won't be used.\n",
      "  warnings.warn(warn_msg)\n"
     ]
    },
    {
     "data": {
      "text/plain": [
       "TrainOutput(global_step=8, training_loss=4.109134674072266, metrics={'train_runtime': 474.8007, 'train_samples_per_second': 1.053, 'train_steps_per_second': 0.017, 'total_flos': 7893228994560.0, 'train_loss': 4.109134674072266, 'epoch': 1.0})"
      ]
     },
     "execution_count": 32,
     "metadata": {},
     "output_type": "execute_result"
    }
   ],
   "source": [
    "trainer.train()"
   ]
  },
  {
   "cell_type": "markdown",
   "id": "3d9538c0",
   "metadata": {},
   "source": [
    "### outputs for the new data and evaluation"
   ]
  },
  {
   "cell_type": "code",
   "execution_count": 78,
   "id": "449ee59b",
   "metadata": {},
   "outputs": [],
   "source": [
    "df = pd.read_csv('news_summary_more.csv')\n",
    "df = df.iloc[600 : 1001, :]"
   ]
  },
  {
   "cell_type": "code",
   "execution_count": 79,
   "id": "1e23dd3e",
   "metadata": {},
   "outputs": [
    {
     "data": {
      "text/html": [
       "<div>\n",
       "<style scoped>\n",
       "    .dataframe tbody tr th:only-of-type {\n",
       "        vertical-align: middle;\n",
       "    }\n",
       "\n",
       "    .dataframe tbody tr th {\n",
       "        vertical-align: top;\n",
       "    }\n",
       "\n",
       "    .dataframe thead th {\n",
       "        text-align: right;\n",
       "    }\n",
       "</style>\n",
       "<table border=\"1\" class=\"dataframe\">\n",
       "  <thead>\n",
       "    <tr style=\"text-align: right;\">\n",
       "      <th></th>\n",
       "      <th>headlines</th>\n",
       "      <th>text</th>\n",
       "    </tr>\n",
       "  </thead>\n",
       "  <tbody>\n",
       "    <tr>\n",
       "      <th>600</th>\n",
       "      <td>Humbled by this recognition: Actor Mohanlal on Padma Bhushan</td>\n",
       "      <td>Malayalam actor Mohanlal, who was conferred with the Padma Bhushan award on Friday, said that he was \"humbled by this recognition\". \"[I] am eternally grateful to one and all who have been part of this worldly journey of mine,\" the actor added. The five-time National Film Award winning actor was earlier honoured with the Padma Shri in 2001.</td>\n",
       "    </tr>\n",
       "    <tr>\n",
       "      <th>601</th>\n",
       "      <td>Prateik, Sanya host Gatsby themed wedding reception</td>\n",
       "      <td>Actor Prateik Babbar and his wife Sanya Sagar hosted a wedding reception in Mumbai on Friday, the theme of which was inspired by American author F Scott Fitzgerald's 1925 novel 'The Great Gatsby'. The couple arrived at the reception in a vintage red car. Prateik and Sanya tied the knot in Lucknow on Thursday.</td>\n",
       "    </tr>\n",
       "    <tr>\n",
       "      <th>602</th>\n",
       "      <td>I've become more popular since 'Race 3' memes: Daisy Shah</td>\n",
       "      <td>Speaking about being trolled for her dialogue, \"My business is my business, none of your business\" in the film 'Race 3', actress Daisy Shah said that the memes made her more popular. \"[E]ither you take it positively or you take it negatively, and I take it positively,\" the actress added. She further said she was \"very happy\" with the outcome.</td>\n",
       "    </tr>\n",
       "    <tr>\n",
       "      <th>603</th>\n",
       "      <td>FIR against Zubeen for alleged 'unconstitutional' Bharat Ratna remark</td>\n",
       "      <td>A case has been filed against singer Zubeen Garg for allegedly using 'unparliamentary' language defaming the Bharat Ratna, Indiaâs highest civilian honour, in an audio clip doing rounds on WhatsApp. An FIR was lodged against Garg by Satya Ranjan Borah, State Vice President BJP, Kisan Morcha, Assam. \"The way he's been behaving cannot be accepted by our society,\" Borah said.</td>\n",
       "    </tr>\n",
       "    <tr>\n",
       "      <th>604</th>\n",
       "      <td>Sonu to face legal action for running hotel without licence</td>\n",
       "      <td>Brihanmumbai Municipal Corporation (BMC) is likely to take legal action against Sonu Sood for converting a residential building into a hotel without clearance from the municipal body. Sood reportedly sent a proposal to the municipal body in June 2018, which was rejected as it didn't comply with its norms. BMC is yet to receive an amended proposal from the actor.</td>\n",
       "    </tr>\n",
       "  </tbody>\n",
       "</table>\n",
       "</div>"
      ],
      "text/plain": [
       "                                                                 headlines  \\\n",
       "600           Humbled by this recognition: Actor Mohanlal on Padma Bhushan   \n",
       "601                    Prateik, Sanya host Gatsby themed wedding reception   \n",
       "602              I've become more popular since 'Race 3' memes: Daisy Shah   \n",
       "603  FIR against Zubeen for alleged 'unconstitutional' Bharat Ratna remark   \n",
       "604            Sonu to face legal action for running hotel without licence   \n",
       "\n",
       "                                                                                                                                                                                                                                                                                                                                                                                          text  \n",
       "600                                      Malayalam actor Mohanlal, who was conferred with the Padma Bhushan award on Friday, said that he was \"humbled by this recognition\". \"[I] am eternally grateful to one and all who have been part of this worldly journey of mine,\" the actor added. The five-time National Film Award winning actor was earlier honoured with the Padma Shri in 2001.  \n",
       "601                                                                     Actor Prateik Babbar and his wife Sanya Sagar hosted a wedding reception in Mumbai on Friday, the theme of which was inspired by American author F Scott Fitzgerald's 1925 novel 'The Great Gatsby'. The couple arrived at the reception in a vintage red car. Prateik and Sanya tied the knot in Lucknow on Thursday.  \n",
       "602                                   Speaking about being trolled for her dialogue, \"My business is my business, none of your business\" in the film 'Race 3', actress Daisy Shah said that the memes made her more popular. \"[E]ither you take it positively or you take it negatively, and I take it positively,\" the actress added. She further said she was \"very happy\" with the outcome.  \n",
       "603  A case has been filed against singer Zubeen Garg for allegedly using 'unparliamentary' language defaming the Bharat Ratna, Indiaâs highest civilian honour, in an audio clip doing rounds on WhatsApp. An FIR was lodged against Garg by Satya Ranjan Borah, State Vice President BJP, Kisan Morcha, Assam. \"The way he's been behaving cannot be accepted by our society,\" Borah said.  \n",
       "604               Brihanmumbai Municipal Corporation (BMC) is likely to take legal action against Sonu Sood for converting a residential building into a hotel without clearance from the municipal body. Sood reportedly sent a proposal to the municipal body in June 2018, which was rejected as it didn't comply with its norms. BMC is yet to receive an amended proposal from the actor.  "
      ]
     },
     "execution_count": 79,
     "metadata": {},
     "output_type": "execute_result"
    }
   ],
   "source": [
    "df.head()"
   ]
  },
  {
   "cell_type": "code",
   "execution_count": 81,
   "id": "5a3ecc16",
   "metadata": {},
   "outputs": [
    {
     "name": "stdout",
     "output_type": "stream",
     "text": [
      "60 :: 341\n"
     ]
    }
   ],
   "source": [
    "print(f\"{len(df['headlines'][600])} :: {len(df['text'][600])}\")"
   ]
  },
  {
   "cell_type": "code",
   "execution_count": 47,
   "id": "c59c21c5",
   "metadata": {},
   "outputs": [],
   "source": [
    "new_df_test = Dataset.from_pandas(df)"
   ]
  },
  {
   "cell_type": "code",
   "execution_count": 48,
   "id": "8ff96eb1",
   "metadata": {},
   "outputs": [
    {
     "data": {
      "text/plain": [
       "Dataset({\n",
       "    features: ['headlines', 'text'],\n",
       "    num_rows: 401\n",
       "})"
      ]
     },
     "execution_count": 48,
     "metadata": {},
     "output_type": "execute_result"
    }
   ],
   "source": [
    "new_df_test"
   ]
  },
  {
   "cell_type": "code",
   "execution_count": 49,
   "id": "29c07610",
   "metadata": {},
   "outputs": [
    {
     "name": "stderr",
     "output_type": "stream",
     "text": [
      "Map: 100%|██████████| 401/401 [00:00<00:00, 8105.11 examples/s]\n"
     ]
    }
   ],
   "source": [
    "new_test_data = new_df_test.map(preprocessor, batched = True)"
   ]
  },
  {
   "cell_type": "code",
   "execution_count": 50,
   "id": "67bf2aba",
   "metadata": {},
   "outputs": [
    {
     "name": "stdout",
     "output_type": "stream",
     "text": [
      "genertaed summary : Malayalam actor Mohanlal, who was conferred with the Padma Bhushan award on Friday, said that he was \"humbled by this recognition\". \"[I] am eternally grateful to one and all who have been part of this worldly journey of mine,\" the\n",
      "Reference summary : Humbled by this recognition: Actor Mohanlal on Padma Bhushan\n",
      "----------------------------------------\n",
      "genertaed summary : Actor Prateik Babbar and his wife Sanya Sagar hosted a wedding reception in Mumbai on Friday, the theme of which was inspired by American author F Scott Fitzgerald's 1925 novel 'The Great Gatsby'. The couple arrived at the reception in a vintage red car. Pr\n",
      "Reference summary : Prateik, Sanya host Gatsby themed wedding reception\n",
      "----------------------------------------\n",
      "genertaed summary : Speaking about being trolled for her dialogue, \"My business is my business, none of your business\" in the film 'Race 3', actress Daisy Shah said that the memes made her more popular. \"[E]ither you take it positively or you take the negative, and I take\n",
      "Reference summary : I've become more popular since 'Race 3' memes: Daisy Shah\n",
      "----------------------------------------\n",
      "genertaed summary : A case has been filed against singer Zubeen Garg for allegedly using 'unparliamentary' language defaming the Bharat Ratna, Indiaâs highest civilian honour, in an audio clip doing rounds on WhatsApp. An FIR was lodged against Garg by Sat\n",
      "Reference summary : FIR against Zubeen for alleged 'unconstitutional' Bharat Ratna remark\n",
      "----------------------------------------\n",
      "genertaed summary : Brihanmumbai Municipal Corporation (BMC) is likely to take legal action against Sonu Sood for converting a residential building into a hotel without clearance from the municipal body. Sood reportedly sent a proposal to the civic body in June 2018, which was rejected as it didn\n",
      "Reference summary : Sonu to face legal action for running hotel without licence\n",
      "----------------------------------------\n",
      "genertaed summary : Speaking about the competition for the all-rounder spot in the Indian team, Kedar Jadhav said, \"It is a good thing for any team that more guys are competing for one spot.\" \"Everybody is trying to put their best foot forward and when you play for India,\n",
      "Reference summary : Lot of guys competing for one all-rounder slot: Jadhav\n",
      "----------------------------------------\n",
      "genertaed summary : Third seeds Barbora Krejcikova and Rajeev Ram defeated local favourites Astra Sharma and John-Patrick Smith 7-6(3), 6-1 to win the mixed doubles title at the Australian Open on Saturday. This was American Ram's first Grand Slam title\n",
      "Reference summary : Rajeev Ram, Barbora Krejcikova lift Aus Open mixed doubles title\n",
      "----------------------------------------\n",
      "genertaed summary : Speaking about his opening partner Shikhar Dhawan, Rohit Sharma said, \"We know each other since long and have a good understanding... I have always enjoyed batting with Shikar, I am sure it's the same for him too.\" The Dhawan-Rohit\n",
      "Reference summary : Have always enjoyed batting with Dhawan: Rohit Sharma\n",
      "----------------------------------------\n",
      "genertaed summary : Manchester United made it eight wins from eight matches after beating Arsenal 3-1 in the FA Cup fourth round on Friday. Following the win, which saw goals from former Arsenal player Alexis Sanchez, Jesse Lingard and Anthony Martial, United now await the results of the remaining FA Cup matches to\n",
      "Reference summary : United beat Arsenal 3-1 in FA Cup 4th round match\n",
      "----------------------------------------\n",
      "genertaed summary : Former South African international cricketer AB de Villiers in his tweet about Naomi Osaka's Australian Open win took a dig at Osaka's opponent from the US Open 2018, Serena Williams. \"2 majors in a row! This time she's been \"allowed\" to enjoy the moment\n",
      "Reference summary : This time allowed to enjoy moment: De Villiers post Osaka's win\n",
      "----------------------------------------\n"
     ]
    }
   ],
   "source": [
    "for i in range(0, 10) : \n",
    "    sample_text = new_test_data['text'][i]\n",
    "    inputs = tokenizer([sample_text], return_tensors = 'pt', truncation = True, max_length = 512)\n",
    "    summary_ids = model.generate(inputs[\"input_ids\"], max_length = 60, min_length = 30, length_penalty = 2.0)\n",
    "\n",
    "    print(f\"genertaed summary : {tokenizer.decode(summary_ids[0], skip_special_tokens = True)}\")\n",
    "    print(f\"Reference summary : {new_test_data['headlines'][i]}\")\n",
    "\n",
    "    print('-'*40)"
   ]
  },
  {
   "cell_type": "code",
   "execution_count": null,
   "id": "17709924",
   "metadata": {},
   "outputs": [],
   "source": []
  },
  {
   "cell_type": "code",
   "execution_count": null,
   "id": "b6e06b82",
   "metadata": {},
   "outputs": [],
   "source": []
  },
  {
   "cell_type": "code",
   "execution_count": null,
   "id": "91eafad3",
   "metadata": {},
   "outputs": [],
   "source": []
  },
  {
   "cell_type": "code",
   "execution_count": null,
   "id": "594072c1",
   "metadata": {},
   "outputs": [],
   "source": []
  },
  {
   "cell_type": "code",
   "execution_count": null,
   "id": "bc657982",
   "metadata": {},
   "outputs": [],
   "source": []
  },
  {
   "cell_type": "code",
   "execution_count": null,
   "id": "52c5b895",
   "metadata": {},
   "outputs": [],
   "source": []
  },
  {
   "cell_type": "code",
   "execution_count": null,
   "id": "eeb4f937",
   "metadata": {},
   "outputs": [],
   "source": []
  },
  {
   "cell_type": "code",
   "execution_count": null,
   "id": "d4163938",
   "metadata": {},
   "outputs": [],
   "source": []
  },
  {
   "cell_type": "code",
   "execution_count": null,
   "id": "f2acbef1",
   "metadata": {},
   "outputs": [],
   "source": []
  },
  {
   "cell_type": "code",
   "execution_count": null,
   "id": "4de57c3e",
   "metadata": {},
   "outputs": [],
   "source": []
  },
  {
   "cell_type": "code",
   "execution_count": null,
   "id": "704e8ff2",
   "metadata": {},
   "outputs": [],
   "source": []
  },
  {
   "cell_type": "code",
   "execution_count": null,
   "id": "849492e9",
   "metadata": {},
   "outputs": [],
   "source": []
  },
  {
   "cell_type": "code",
   "execution_count": null,
   "id": "9377e9e6",
   "metadata": {},
   "outputs": [],
   "source": []
  },
  {
   "cell_type": "code",
   "execution_count": null,
   "id": "fb6c1e4c",
   "metadata": {},
   "outputs": [],
   "source": []
  },
  {
   "cell_type": "code",
   "execution_count": null,
   "id": "81aaa1c5",
   "metadata": {},
   "outputs": [],
   "source": []
  },
  {
   "cell_type": "code",
   "execution_count": null,
   "id": "227e978d",
   "metadata": {},
   "outputs": [],
   "source": []
  }
 ],
 "metadata": {
  "kernelspec": {
   "display_name": "tfenv",
   "language": "python",
   "name": "python3"
  },
  "language_info": {
   "codemirror_mode": {
    "name": "ipython",
    "version": 3
   },
   "file_extension": ".py",
   "mimetype": "text/x-python",
   "name": "python",
   "nbconvert_exporter": "python",
   "pygments_lexer": "ipython3",
   "version": "3.10.18"
  }
 },
 "nbformat": 4,
 "nbformat_minor": 5
}
