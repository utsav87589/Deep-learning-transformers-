{
 "cells": [
  {
   "cell_type": "markdown",
   "id": "d97bf362",
   "metadata": {},
   "source": [
    "## Text summarization"
   ]
  },
  {
   "cell_type": "markdown",
   "id": "d58f359f",
   "metadata": {},
   "source": [
    "### loading the data"
   ]
  },
  {
   "cell_type": "code",
   "execution_count": 1,
   "id": "318db430",
   "metadata": {},
   "outputs": [],
   "source": [
    "import pandas as pd\n",
    "import numpy as np"
   ]
  },
  {
   "cell_type": "code",
   "execution_count": 15,
   "id": "4e29c5fe",
   "metadata": {},
   "outputs": [
    {
     "data": {
      "text/html": [
       "<div>\n",
       "<style scoped>\n",
       "    .dataframe tbody tr th:only-of-type {\n",
       "        vertical-align: middle;\n",
       "    }\n",
       "\n",
       "    .dataframe tbody tr th {\n",
       "        vertical-align: top;\n",
       "    }\n",
       "\n",
       "    .dataframe thead th {\n",
       "        text-align: right;\n",
       "    }\n",
       "</style>\n",
       "<table border=\"1\" class=\"dataframe\">\n",
       "  <thead>\n",
       "    <tr style=\"text-align: right;\">\n",
       "      <th></th>\n",
       "      <th>Unnamed: 0</th>\n",
       "      <th>title</th>\n",
       "      <th>text</th>\n",
       "      <th>subject</th>\n",
       "      <th>date</th>\n",
       "      <th>info</th>\n",
       "    </tr>\n",
       "  </thead>\n",
       "  <tbody>\n",
       "    <tr>\n",
       "      <th>0</th>\n",
       "      <td>0</td>\n",
       "      <td>Trump on Twitter (Feb 17) - Tom Price, Boeing,...</td>\n",
       "      <td>The following statements were posted to the ve...</td>\n",
       "      <td>politicsNews</td>\n",
       "      <td>February 17, 2017</td>\n",
       "      <td>1</td>\n",
       "    </tr>\n",
       "    <tr>\n",
       "      <th>1</th>\n",
       "      <td>1</td>\n",
       "      <td>Putin says Russia will respond if Russian medi...</td>\n",
       "      <td>SOCHI, Russia (Reuters) - Russian President Vl...</td>\n",
       "      <td>worldnews</td>\n",
       "      <td>October 19, 2017</td>\n",
       "      <td>1</td>\n",
       "    </tr>\n",
       "    <tr>\n",
       "      <th>2</th>\n",
       "      <td>2</td>\n",
       "      <td>Rosie O’Donnell Thinks Martial Law is in Order...</td>\n",
       "      <td>21st Century Wire says Arguably irrelevant Hol...</td>\n",
       "      <td>Middle-east</td>\n",
       "      <td>January 18, 2017</td>\n",
       "      <td>0</td>\n",
       "    </tr>\n",
       "    <tr>\n",
       "      <th>3</th>\n",
       "      <td>3</td>\n",
       "      <td>Chris Christie Reportedly Told Trump To Take ...</td>\n",
       "      <td>Sources say that Chris Christie was offered se...</td>\n",
       "      <td>News</td>\n",
       "      <td>December 11, 2016</td>\n",
       "      <td>0</td>\n",
       "    </tr>\n",
       "    <tr>\n",
       "      <th>4</th>\n",
       "      <td>4</td>\n",
       "      <td>STATE DEPT EMPLOYEE TAPPED TO OVERSEE HILLARY ...</td>\n",
       "      <td>You seriously can t make up this stuff State D...</td>\n",
       "      <td>Government News</td>\n",
       "      <td>Sep 8, 2015</td>\n",
       "      <td>0</td>\n",
       "    </tr>\n",
       "  </tbody>\n",
       "</table>\n",
       "</div>"
      ],
      "text/plain": [
       "   Unnamed: 0                                              title  \\\n",
       "0           0  Trump on Twitter (Feb 17) - Tom Price, Boeing,...   \n",
       "1           1  Putin says Russia will respond if Russian medi...   \n",
       "2           2  Rosie O’Donnell Thinks Martial Law is in Order...   \n",
       "3           3   Chris Christie Reportedly Told Trump To Take ...   \n",
       "4           4  STATE DEPT EMPLOYEE TAPPED TO OVERSEE HILLARY ...   \n",
       "\n",
       "                                                text          subject  \\\n",
       "0  The following statements were posted to the ve...     politicsNews   \n",
       "1  SOCHI, Russia (Reuters) - Russian President Vl...        worldnews   \n",
       "2  21st Century Wire says Arguably irrelevant Hol...      Middle-east   \n",
       "3  Sources say that Chris Christie was offered se...             News   \n",
       "4  You seriously can t make up this stuff State D...  Government News   \n",
       "\n",
       "                 date  info  \n",
       "0  February 17, 2017      1  \n",
       "1   October 19, 2017      1  \n",
       "2    January 18, 2017     0  \n",
       "3   December 11, 2016     0  \n",
       "4         Sep 8, 2015     0  "
      ]
     },
     "execution_count": 15,
     "metadata": {},
     "output_type": "execute_result"
    }
   ],
   "source": [
    "df = pd.read_csv('../Final.csv')\n",
    "df.head()"
   ]
  },
  {
   "cell_type": "code",
   "execution_count": 16,
   "id": "5c47307b",
   "metadata": {},
   "outputs": [
    {
     "data": {
      "text/plain": [
       "(44898, 6)"
      ]
     },
     "execution_count": 16,
     "metadata": {},
     "output_type": "execute_result"
    }
   ],
   "source": [
    "df.shape"
   ]
  },
  {
   "cell_type": "code",
   "execution_count": 17,
   "id": "2cfe25a6",
   "metadata": {},
   "outputs": [],
   "source": [
    "text = df.text.head(10)"
   ]
  },
  {
   "cell_type": "code",
   "execution_count": 18,
   "id": "60c2d2a8",
   "metadata": {},
   "outputs": [
    {
     "data": {
      "text/plain": [
       "0    The following statements were posted to the ve...\n",
       "1    SOCHI, Russia (Reuters) - Russian President Vl...\n",
       "2    21st Century Wire says Arguably irrelevant Hol...\n",
       "3    Sources say that Chris Christie was offered se...\n",
       "4    You seriously can t make up this stuff State D...\n",
       "5    There s so much to this effort to close GITMO ...\n",
       "6    WELLINGTON (Reuters) - U.S. Secretary of State...\n",
       "7    WASHINGTON (Reuters) - The U.S. Senate confirm...\n",
       "8    WASHINGTON (Reuters) - Saudi Arabia welcomed o...\n",
       "9    SEOUL/TOKYO (Reuters) - South Korean and Japan...\n",
       "Name: text, dtype: object"
      ]
     },
     "execution_count": 18,
     "metadata": {},
     "output_type": "execute_result"
    }
   ],
   "source": [
    "text"
   ]
  },
  {
   "cell_type": "markdown",
   "id": "e51d0bb9",
   "metadata": {},
   "source": [
    "### loading the model and summary"
   ]
  },
  {
   "cell_type": "code",
   "execution_count": 22,
   "id": "1bca83d8",
   "metadata": {},
   "outputs": [],
   "source": [
    "from transformers import pipeline"
   ]
  },
  {
   "cell_type": "code",
   "execution_count": 24,
   "id": "9b734a60",
   "metadata": {},
   "outputs": [
    {
     "name": "stderr",
     "output_type": "stream",
     "text": [
      "c:\\Users\\lenovo\\anaconda3\\envs\\tfenv\\lib\\site-packages\\huggingface_hub\\file_download.py:143: UserWarning: `huggingface_hub` cache-system uses symlinks by default to efficiently store duplicated files but your machine does not support them in C:\\Users\\lenovo\\.cache\\huggingface\\hub\\models--facebook--bart-large-cnn. Caching files will still work but in a degraded version that might require more space on your disk. This warning can be disabled by setting the `HF_HUB_DISABLE_SYMLINKS_WARNING` environment variable. For more details, see https://huggingface.co/docs/huggingface_hub/how-to-cache#limitations.\n",
      "To support symlinks on Windows, you either need to activate Developer Mode or to run Python as an administrator. In order to activate developer mode, see this article: https://docs.microsoft.com/en-us/windows/apps/get-started/enable-your-device-for-development\n",
      "  warnings.warn(message)\n",
      "Xet Storage is enabled for this repo, but the 'hf_xet' package is not installed. Falling back to regular HTTP download. For better performance, install the package with: `pip install huggingface_hub[hf_xet]` or `pip install hf_xet`\n",
      "Device set to use cpu\n"
     ]
    }
   ],
   "source": [
    "summarizer = pipeline('summarization', model = 'facebook/bart-large-cnn')"
   ]
  },
  {
   "cell_type": "code",
   "execution_count": 30,
   "id": "35854098",
   "metadata": {},
   "outputs": [],
   "source": [
    "summary = []\n",
    "def text_summary(text) : \n",
    "    for i in range(0, len(text)) : \n",
    "        text_summary = summarizer(text[i], max_length = 50, min_length = 20, do_sample = False)\n",
    "        summary.append(text_summary)\n",
    "\n",
    "    return summary"
   ]
  },
  {
   "cell_type": "code",
   "execution_count": 31,
   "id": "78828b71",
   "metadata": {},
   "outputs": [
    {
     "data": {
      "text/plain": [
       "[[{'summary_text': 'The following statements were posted to the verified Twitter accounts of U.S. President Donald Trump, @realDonaldTrump and @POTUS. The statements have not been edited or confirmed by Reuters.'}],\n",
       " [{'summary_text': 'Russian President Vladimir Putin says Moscow will retaliate if the Unites States take measures to pressure Russian media outlets. Putin: \"As soon as we see steps (to pressure) our media, there will immediately be an answer\"'}],\n",
       " [{'summary_text': 'Hollywood personality, Rosie O Donnell has taken to social media to support the concept of the US Government imposing Martial Law on the nation. The Hollywood personality, who by all accounts of her own should be in Canada by now,'}],\n",
       " [{'summary_text': 'Sources say that Chris Christie was offered several positions in Donald Trump s administration but turned them all down. The sources said those jobs included Cabinet-level posts like Homeland Security secretary and Veterans Affairs secretary, as well as other posts, like a'}],\n",
       " [{'summary_text': \"State Dept's new 'email czar' to deal with Clinton records requests donated $2,700 to Clinton campaign just weeks ago.\"}],\n",
       " [{'summary_text': 'Obama made a campaign promise in his 2008 White House bid to close the facility. Critics of the promise, including many Republicans, fear transferring detainees to the U.S. mainland poses too much of a homeland security risk.'}],\n",
       " [{'summary_text': 'U.S. Secretary of State John Kerry says Obama administration will implement Paris Agreement. Kerry made the comments during a visit to New Zealand just before setting off to Marrakesh, Morocco. Donald Trump, who calls global warming a hoax'}],\n",
       " [{'summary_text': 'Former Utah governor Jon Huntsman confirmed by voice vote. Huntsman served as ambassador to Singapore under former Republican President George H.W. Bush. Senate Foreign Relations Committee had approved Huntsman unanimously earlier this week.'}],\n",
       " [{'summary_text': 'Saudi Arabia welcomes the release of classified pages of the official report on the 9/11 attacks. Ambassador: We hope the release will clear up, once and for all, any lingering questions or suspicions.'}],\n",
       " [{'summary_text': 'The drills involve four U.S. stealth F-35B jets as well as South Korean and Japanese fighter jets. North Korea has been working to develop a nuclear-tipped missile capable of hitting the United States. The 15-'}]]"
      ]
     },
     "execution_count": 31,
     "metadata": {},
     "output_type": "execute_result"
    }
   ],
   "source": [
    "text_summary(text)"
   ]
  },
  {
   "cell_type": "code",
   "execution_count": 32,
   "id": "fec1ddae",
   "metadata": {},
   "outputs": [
    {
     "data": {
      "text/plain": [
       "'21st Century Wire says Arguably irrelevant Hollywood personality, Rosie O Donnell has taken to social media to support the concept of the US Government imposing Martial Law on the nation to avoid a Trump presidency. The Hollywood personality, who by all accounts of her own should be in Canada by now, seems to have very little understanding of not only politics, but of the law as well. She, in caps-lock Tweet shouting, said that the inauguration should be delayed under martial law until Trump is  cleared of all charges.  Obviously she s referring to the  dossier  that was discredited as a fake within hours of its release by BuzzFeed and subsequent republication by many left leaning mainstream media outlets.  Charges  implies a legal case yet there was no legal case, no victim, no crime, nothing of substance at all because it was a fake document.Have a look at her whacky, ill fated attempts at affecting the political dialog on her social media output.I FULLY SUPPORT IMPOSING MARTIAL LAW   DELAYING THE INAUGURATION   UNTIL TRUMP IS \"CLEARED\" OF ALL CHARGES https://t.co/fUn8FZ8RTj  ROSIE (@Rosie) January 12, 2017As though the high horsed Hollywood liberal echo chamber didn t get enough with the caps-locked illogical rant above, she followed with yet another cry to interrupt a legitimately elected US political official with a military take over and suspension of constitutional rights.delay the day   do not swear him in until it is investigated   for the love of god america   we must stop the inaugruation @frankielucy  ROSIE (@Rosie) January 12, 2017As the final days of the Obama administration tick away we continue to bear witness to many Hollywood celebs throwing tantrums and wearing their ignorance of political realities on their sleeves (and social media feeds.) Rosie is one of the ultimate examples of the hypocrisy that we ve been shown by others of her ilk such as Meryl Streep recently. These Hollywood celebs say they support equality, tolerance,  and freedom out of one side of their mouth then push for totalitarian, military enforced, martial law and disruption of free elections when the elections don t go their way.Read More Election News at: 21st Century Wire Election CoverageSUPPORT 21WIRE   SUBSCRIBE & BECOME A MEMBER@ 21WIRE.TV'"
      ]
     },
     "execution_count": 32,
     "metadata": {},
     "output_type": "execute_result"
    }
   ],
   "source": [
    "text[2]"
   ]
  },
  {
   "cell_type": "markdown",
   "id": "31e2c58b",
   "metadata": {},
   "source": [
    "### same model other dataset"
   ]
  },
  {
   "cell_type": "code",
   "execution_count": 36,
   "id": "1a925538",
   "metadata": {},
   "outputs": [
    {
     "data": {
      "text/html": [
       "<div>\n",
       "<style scoped>\n",
       "    .dataframe tbody tr th:only-of-type {\n",
       "        vertical-align: middle;\n",
       "    }\n",
       "\n",
       "    .dataframe tbody tr th {\n",
       "        vertical-align: top;\n",
       "    }\n",
       "\n",
       "    .dataframe thead th {\n",
       "        text-align: right;\n",
       "    }\n",
       "</style>\n",
       "<table border=\"1\" class=\"dataframe\">\n",
       "  <thead>\n",
       "    <tr style=\"text-align: right;\">\n",
       "      <th></th>\n",
       "      <th>headlines</th>\n",
       "      <th>text</th>\n",
       "    </tr>\n",
       "  </thead>\n",
       "  <tbody>\n",
       "    <tr>\n",
       "      <th>0</th>\n",
       "      <td>upGrad learner switches to career in ML &amp; Al w...</td>\n",
       "      <td>Saurav Kant, an alumnus of upGrad and IIIT-B's...</td>\n",
       "    </tr>\n",
       "    <tr>\n",
       "      <th>1</th>\n",
       "      <td>Delhi techie wins free food from Swiggy for on...</td>\n",
       "      <td>Kunal Shah's credit card bill payment platform...</td>\n",
       "    </tr>\n",
       "    <tr>\n",
       "      <th>2</th>\n",
       "      <td>New Zealand end Rohit Sharma-led India's 12-ma...</td>\n",
       "      <td>New Zealand defeated India by 8 wickets in the...</td>\n",
       "    </tr>\n",
       "    <tr>\n",
       "      <th>3</th>\n",
       "      <td>Aegon life iTerm insurance plan helps customer...</td>\n",
       "      <td>With Aegon Life iTerm Insurance plan, customer...</td>\n",
       "    </tr>\n",
       "    <tr>\n",
       "      <th>4</th>\n",
       "      <td>Have known Hirani for yrs, what if MeToo claim...</td>\n",
       "      <td>Speaking about the sexual harassment allegatio...</td>\n",
       "    </tr>\n",
       "  </tbody>\n",
       "</table>\n",
       "</div>"
      ],
      "text/plain": [
       "                                           headlines  \\\n",
       "0  upGrad learner switches to career in ML & Al w...   \n",
       "1  Delhi techie wins free food from Swiggy for on...   \n",
       "2  New Zealand end Rohit Sharma-led India's 12-ma...   \n",
       "3  Aegon life iTerm insurance plan helps customer...   \n",
       "4  Have known Hirani for yrs, what if MeToo claim...   \n",
       "\n",
       "                                                text  \n",
       "0  Saurav Kant, an alumnus of upGrad and IIIT-B's...  \n",
       "1  Kunal Shah's credit card bill payment platform...  \n",
       "2  New Zealand defeated India by 8 wickets in the...  \n",
       "3  With Aegon Life iTerm Insurance plan, customer...  \n",
       "4  Speaking about the sexual harassment allegatio...  "
      ]
     },
     "execution_count": 36,
     "metadata": {},
     "output_type": "execute_result"
    }
   ],
   "source": [
    "df = pd.read_csv('news_summary_more.csv')\n",
    "df.head()"
   ]
  },
  {
   "cell_type": "code",
   "execution_count": 39,
   "id": "61f58250",
   "metadata": {},
   "outputs": [
    {
     "data": {
      "text/plain": [
       "(98401, 2)"
      ]
     },
     "execution_count": 39,
     "metadata": {},
     "output_type": "execute_result"
    }
   ],
   "source": [
    "df.shape"
   ]
  },
  {
   "cell_type": "code",
   "execution_count": 40,
   "id": "3c8a222c",
   "metadata": {},
   "outputs": [],
   "source": [
    "text = df.text.head(10)"
   ]
  },
  {
   "cell_type": "code",
   "execution_count": 43,
   "id": "c946ceb1",
   "metadata": {},
   "outputs": [],
   "source": [
    "original_summ = df.headlines.head(10)"
   ]
  },
  {
   "cell_type": "code",
   "execution_count": 45,
   "id": "2c72652d",
   "metadata": {},
   "outputs": [
    {
     "name": "stdout",
     "output_type": "stream",
     "text": [
      "Saurav Kant, an alumnus of upGrad and IIIT-B's PG Program in Machine learning and Artificial Intelligence, was a Sr Systems Engineer at Infosys with almost 5 years of work experience. The program and upGrad's 360-degree career support helped him transition to a Data Scientist at Tech Mahindra with 90% salary hike. upGrad's Online Power Learning has powered 3 lakh+ careers. :: upGrad learner switches to career in ML & Al with 90% salary hike\n"
     ]
    }
   ],
   "source": [
    "print(f\"{text[0]} :: {original_summ[0]}\")"
   ]
  },
  {
   "cell_type": "code",
   "execution_count": 48,
   "id": "c5c9590e",
   "metadata": {},
   "outputs": [],
   "source": [
    "summary = []\n",
    "def text_summary(text) : \n",
    "    for i in range(0, len(text)) : \n",
    "        text_summary = summarizer(text[i], max_length = 15, min_length = 10, do_sample = False)\n",
    "        summary.append(text_summary)\n",
    "\n",
    "    return summary"
   ]
  },
  {
   "cell_type": "code",
   "execution_count": 49,
   "id": "e2efa430",
   "metadata": {},
   "outputs": [
    {
     "data": {
      "text/plain": [
       "[[{'summary_text': 'Saurav Kant, an alumnus of upGrad'}],\n",
       " [{'summary_text': \"Kunal Shah's credit card bill payment platform, CRED\"}],\n",
       " [{'summary_text': 'New Zealand defeated India by 8 wickets in the fourth O'}],\n",
       " [{'summary_text': 'With Aegon Life iTerm Insurance plan, customers can enjoy'}],\n",
       " [{'summary_text': 'Rajkumar Hirani has been accused of sexual harassment'}],\n",
       " [{'summary_text': 'Rahat Fateh Ali Khan has denied receiving any notice from'}],\n",
       " [{'summary_text': 'India recorded their lowest ODI total in New Zealand after getting'}],\n",
       " [{'summary_text': 'The Home Ministry asked him to join work on the last day'}],\n",
       " [{'summary_text': 'Andhra Pradesh CM N Chandrababu Naidu'}],\n",
       " [{'summary_text': 'Congress candidate Shafia Zubair won the Ramgarh Assembly'}]]"
      ]
     },
     "execution_count": 49,
     "metadata": {},
     "output_type": "execute_result"
    }
   ],
   "source": [
    "text_summary(text)"
   ]
  },
  {
   "cell_type": "code",
   "execution_count": 60,
   "id": "b6e577d9",
   "metadata": {},
   "outputs": [
    {
     "data": {
      "text/plain": [
       "pandas.core.series.Series"
      ]
     },
     "execution_count": 60,
     "metadata": {},
     "output_type": "execute_result"
    }
   ],
   "source": [
    "type(original_summ)"
   ]
  },
  {
   "cell_type": "code",
   "execution_count": 65,
   "id": "0f4d8241",
   "metadata": {},
   "outputs": [
    {
     "data": {
      "text/plain": [
       "pandas.core.series.Series"
      ]
     },
     "execution_count": 65,
     "metadata": {},
     "output_type": "execute_result"
    }
   ],
   "source": [
    "type(summary)"
   ]
  },
  {
   "cell_type": "code",
   "execution_count": 64,
   "id": "a2061750",
   "metadata": {},
   "outputs": [],
   "source": [
    "flat = [item[0]['summary_text'] for item in summary]\n",
    "summary = pd.Series(flat, name = 'headlines')"
   ]
  },
  {
   "cell_type": "code",
   "execution_count": 66,
   "id": "b4158f54",
   "metadata": {},
   "outputs": [
    {
     "data": {
      "text/plain": [
       "0                    Saurav Kant, an alumnus of upGrad\n",
       "1    Kunal Shah's credit card bill payment platform...\n",
       "2    New Zealand defeated India by 8 wickets in the...\n",
       "3    With Aegon Life iTerm Insurance plan, customer...\n",
       "4    Rajkumar Hirani has been accused of sexual har...\n",
       "5    Rahat Fateh Ali Khan has denied receiving any ...\n",
       "6    India recorded their lowest ODI total in New Z...\n",
       "7    The Home Ministry asked him to join work on th...\n",
       "8                Andhra Pradesh CM N Chandrababu Naidu\n",
       "9    Congress candidate Shafia Zubair won the Ramga...\n",
       "Name: headlines, dtype: object"
      ]
     },
     "execution_count": 66,
     "metadata": {},
     "output_type": "execute_result"
    }
   ],
   "source": [
    "summary"
   ]
  },
  {
   "cell_type": "markdown",
   "id": "295a01eb",
   "metadata": {},
   "source": [
    "### evaluation of the summary"
   ]
  },
  {
   "cell_type": "code",
   "execution_count": 53,
   "id": "a74f3fc7",
   "metadata": {},
   "outputs": [],
   "source": [
    "from evaluate import load"
   ]
  },
  {
   "cell_type": "code",
   "execution_count": 56,
   "id": "4488a9ba",
   "metadata": {},
   "outputs": [],
   "source": [
    "rouge = load('rouge')"
   ]
  },
  {
   "cell_type": "code",
   "execution_count": 67,
   "id": "2e9994bd",
   "metadata": {},
   "outputs": [],
   "source": [
    "results = rouge.compute(predictions = summary, references = original_summ)"
   ]
  },
  {
   "cell_type": "code",
   "execution_count": 68,
   "id": "a7c7dbc6",
   "metadata": {},
   "outputs": [
    {
     "name": "stdout",
     "output_type": "stream",
     "text": [
      "{'rouge1': 0.30227834077948496, 'rouge2': 0.16255411255411253, 'rougeL': 0.3005548291017399, 'rougeLsum': 0.3039691620355236}\n"
     ]
    }
   ],
   "source": [
    "print(results)"
   ]
  },
  {
   "cell_type": "code",
   "execution_count": null,
   "id": "8449edc5",
   "metadata": {},
   "outputs": [],
   "source": []
  },
  {
   "cell_type": "code",
   "execution_count": null,
   "id": "e82e9aaf",
   "metadata": {},
   "outputs": [],
   "source": []
  },
  {
   "cell_type": "code",
   "execution_count": null,
   "id": "4f943c28",
   "metadata": {},
   "outputs": [],
   "source": []
  },
  {
   "cell_type": "code",
   "execution_count": null,
   "id": "c9b06639",
   "metadata": {},
   "outputs": [],
   "source": []
  },
  {
   "cell_type": "code",
   "execution_count": null,
   "id": "a343a867",
   "metadata": {},
   "outputs": [],
   "source": []
  },
  {
   "cell_type": "code",
   "execution_count": null,
   "id": "c2460be6",
   "metadata": {},
   "outputs": [],
   "source": []
  },
  {
   "cell_type": "code",
   "execution_count": null,
   "id": "59f7aada",
   "metadata": {},
   "outputs": [],
   "source": []
  },
  {
   "cell_type": "code",
   "execution_count": null,
   "id": "6cf43b94",
   "metadata": {},
   "outputs": [],
   "source": []
  },
  {
   "cell_type": "code",
   "execution_count": null,
   "id": "72bcdd22",
   "metadata": {},
   "outputs": [],
   "source": []
  },
  {
   "cell_type": "code",
   "execution_count": null,
   "id": "d9037f20",
   "metadata": {},
   "outputs": [],
   "source": []
  },
  {
   "cell_type": "code",
   "execution_count": null,
   "id": "e193c71c",
   "metadata": {},
   "outputs": [],
   "source": []
  },
  {
   "cell_type": "code",
   "execution_count": null,
   "id": "ef5b0bba",
   "metadata": {},
   "outputs": [],
   "source": []
  },
  {
   "cell_type": "code",
   "execution_count": null,
   "id": "12ca4596",
   "metadata": {},
   "outputs": [],
   "source": []
  },
  {
   "cell_type": "code",
   "execution_count": null,
   "id": "795d18fb",
   "metadata": {},
   "outputs": [],
   "source": []
  },
  {
   "cell_type": "code",
   "execution_count": null,
   "id": "29245c46",
   "metadata": {},
   "outputs": [],
   "source": []
  },
  {
   "cell_type": "code",
   "execution_count": null,
   "id": "a723e66a",
   "metadata": {},
   "outputs": [],
   "source": []
  },
  {
   "cell_type": "code",
   "execution_count": null,
   "id": "205e650f",
   "metadata": {},
   "outputs": [],
   "source": []
  },
  {
   "cell_type": "code",
   "execution_count": null,
   "id": "c9bf6981",
   "metadata": {},
   "outputs": [],
   "source": []
  }
 ],
 "metadata": {
  "kernelspec": {
   "display_name": "tfenv",
   "language": "python",
   "name": "python3"
  },
  "language_info": {
   "codemirror_mode": {
    "name": "ipython",
    "version": 3
   },
   "file_extension": ".py",
   "mimetype": "text/x-python",
   "name": "python",
   "nbconvert_exporter": "python",
   "pygments_lexer": "ipython3",
   "version": "3.10.18"
  }
 },
 "nbformat": 4,
 "nbformat_minor": 5
}
