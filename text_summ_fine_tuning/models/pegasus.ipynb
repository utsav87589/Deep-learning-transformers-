{
 "cells": [
  {
   "cell_type": "markdown",
   "id": "7179f6d5",
   "metadata": {},
   "source": [
    "## Pegasus model"
   ]
  },
  {
   "cell_type": "markdown",
   "id": "c4f408e7",
   "metadata": {},
   "source": [
    "### importing the libraries"
   ]
  },
  {
   "cell_type": "code",
   "execution_count": 1,
   "id": "ac3b3dee",
   "metadata": {},
   "outputs": [
    {
     "name": "stderr",
     "output_type": "stream",
     "text": [
      "c:\\Users\\lenovo\\anaconda3\\envs\\tfenv\\lib\\site-packages\\tqdm\\auto.py:21: TqdmWarning: IProgress not found. Please update jupyter and ipywidgets. See https://ipywidgets.readthedocs.io/en/stable/user_install.html\n",
      "  from .autonotebook import tqdm as notebook_tqdm\n"
     ]
    }
   ],
   "source": [
    "import pandas as pd\n",
    "import numpy as np\n",
    "from transformers import PegasusTokenizer, PegasusForConditionalGeneration, Trainer, TrainingArguments, DataCollatorForSeq2Seq\n",
    "from datasets import Dataset\n",
    "import evaluate"
   ]
  },
  {
   "cell_type": "markdown",
   "id": "7417c07a",
   "metadata": {},
   "source": [
    "### importing the data without ctext"
   ]
  },
  {
   "cell_type": "code",
   "execution_count": 2,
   "id": "62a061aa",
   "metadata": {},
   "outputs": [
    {
     "data": {
      "text/html": [
       "<div>\n",
       "<style scoped>\n",
       "    .dataframe tbody tr th:only-of-type {\n",
       "        vertical-align: middle;\n",
       "    }\n",
       "\n",
       "    .dataframe tbody tr th {\n",
       "        vertical-align: top;\n",
       "    }\n",
       "\n",
       "    .dataframe thead th {\n",
       "        text-align: right;\n",
       "    }\n",
       "</style>\n",
       "<table border=\"1\" class=\"dataframe\">\n",
       "  <thead>\n",
       "    <tr style=\"text-align: right;\">\n",
       "      <th></th>\n",
       "      <th>Unnamed: 0</th>\n",
       "      <th>headlines</th>\n",
       "      <th>text</th>\n",
       "    </tr>\n",
       "  </thead>\n",
       "  <tbody>\n",
       "    <tr>\n",
       "      <th>0</th>\n",
       "      <td>0</td>\n",
       "      <td>Chhattisgarh to start ambulance service for cows</td>\n",
       "      <td>Chhattisgarh Chief Minister Raman Singh on Sun...</td>\n",
       "    </tr>\n",
       "    <tr>\n",
       "      <th>1</th>\n",
       "      <td>1</td>\n",
       "      <td>Trucks dumping debris on wetlands seized in Mu...</td>\n",
       "      <td>Mumbai Police on Saturday seized ten trucks an...</td>\n",
       "    </tr>\n",
       "    <tr>\n",
       "      <th>2</th>\n",
       "      <td>2</td>\n",
       "      <td>Modi pays homage to Indian World War I heroes ...</td>\n",
       "      <td>PM Narendra Modi visited the Haifa Indian Ceme...</td>\n",
       "    </tr>\n",
       "    <tr>\n",
       "      <th>3</th>\n",
       "      <td>3</td>\n",
       "      <td>Delhi's domesticated elephants may be shifted ...</td>\n",
       "      <td>A forest department report submitted to the Hi...</td>\n",
       "    </tr>\n",
       "    <tr>\n",
       "      <th>4</th>\n",
       "      <td>4</td>\n",
       "      <td>Ranchi civic body uses 'Sholay' climax to prom...</td>\n",
       "      <td>Ranchi Municipal Corporation has used movie Sh...</td>\n",
       "    </tr>\n",
       "  </tbody>\n",
       "</table>\n",
       "</div>"
      ],
      "text/plain": [
       "   Unnamed: 0                                          headlines  \\\n",
       "0           0   Chhattisgarh to start ambulance service for cows   \n",
       "1           1  Trucks dumping debris on wetlands seized in Mu...   \n",
       "2           2  Modi pays homage to Indian World War I heroes ...   \n",
       "3           3  Delhi's domesticated elephants may be shifted ...   \n",
       "4           4  Ranchi civic body uses 'Sholay' climax to prom...   \n",
       "\n",
       "                                                text  \n",
       "0  Chhattisgarh Chief Minister Raman Singh on Sun...  \n",
       "1  Mumbai Police on Saturday seized ten trucks an...  \n",
       "2  PM Narendra Modi visited the Haifa Indian Ceme...  \n",
       "3  A forest department report submitted to the Hi...  \n",
       "4  Ranchi Municipal Corporation has used movie Sh...  "
      ]
     },
     "execution_count": 2,
     "metadata": {},
     "output_type": "execute_result"
    }
   ],
   "source": [
    "df_train = pd.read_csv('../../Datasets/without_ctext/df_train.csv')\n",
    "df_train.head()"
   ]
  },
  {
   "cell_type": "code",
   "execution_count": 3,
   "id": "75c0c144",
   "metadata": {},
   "outputs": [
    {
     "data": {
      "text/html": [
       "<div>\n",
       "<style scoped>\n",
       "    .dataframe tbody tr th:only-of-type {\n",
       "        vertical-align: middle;\n",
       "    }\n",
       "\n",
       "    .dataframe tbody tr th {\n",
       "        vertical-align: top;\n",
       "    }\n",
       "\n",
       "    .dataframe thead th {\n",
       "        text-align: right;\n",
       "    }\n",
       "</style>\n",
       "<table border=\"1\" class=\"dataframe\">\n",
       "  <thead>\n",
       "    <tr style=\"text-align: right;\">\n",
       "      <th></th>\n",
       "      <th>headlines</th>\n",
       "      <th>text</th>\n",
       "    </tr>\n",
       "  </thead>\n",
       "  <tbody>\n",
       "    <tr>\n",
       "      <th>0</th>\n",
       "      <td>Chhattisgarh to start ambulance service for cows</td>\n",
       "      <td>Chhattisgarh Chief Minister Raman Singh on Sun...</td>\n",
       "    </tr>\n",
       "    <tr>\n",
       "      <th>1</th>\n",
       "      <td>Trucks dumping debris on wetlands seized in Mu...</td>\n",
       "      <td>Mumbai Police on Saturday seized ten trucks an...</td>\n",
       "    </tr>\n",
       "    <tr>\n",
       "      <th>2</th>\n",
       "      <td>Modi pays homage to Indian World War I heroes ...</td>\n",
       "      <td>PM Narendra Modi visited the Haifa Indian Ceme...</td>\n",
       "    </tr>\n",
       "    <tr>\n",
       "      <th>3</th>\n",
       "      <td>Delhi's domesticated elephants may be shifted ...</td>\n",
       "      <td>A forest department report submitted to the Hi...</td>\n",
       "    </tr>\n",
       "    <tr>\n",
       "      <th>4</th>\n",
       "      <td>Ranchi civic body uses 'Sholay' climax to prom...</td>\n",
       "      <td>Ranchi Municipal Corporation has used movie Sh...</td>\n",
       "    </tr>\n",
       "    <tr>\n",
       "      <th>...</th>\n",
       "      <td>...</td>\n",
       "      <td>...</td>\n",
       "    </tr>\n",
       "    <tr>\n",
       "      <th>2995</th>\n",
       "      <td>HC stays criminal proceedings against SRK in s...</td>\n",
       "      <td>Gujarat High Court has put an interim stay on ...</td>\n",
       "    </tr>\n",
       "    <tr>\n",
       "      <th>2996</th>\n",
       "      <td>Samajwadi Party still belongs to me: Mulayam S...</td>\n",
       "      <td>Samajwadi Party supremo Mulayam Singh Yadav on...</td>\n",
       "    </tr>\n",
       "    <tr>\n",
       "      <th>2997</th>\n",
       "      <td>Doctors say abortion not possible for 10-yr-ol...</td>\n",
       "      <td>A Chandigarh hospital's doctors ruled out the ...</td>\n",
       "    </tr>\n",
       "    <tr>\n",
       "      <th>2998</th>\n",
       "      <td>Logon ka kaam hai kehna: Sonakshi Sinha on mar...</td>\n",
       "      <td>Actress Sonakshi Sinha, while reacting to repo...</td>\n",
       "    </tr>\n",
       "    <tr>\n",
       "      <th>2999</th>\n",
       "      <td>Over 80,000 children 'wasting' from hunger in ...</td>\n",
       "      <td>Over 80,000 children under the age of 5 in the...</td>\n",
       "    </tr>\n",
       "  </tbody>\n",
       "</table>\n",
       "<p>3000 rows × 2 columns</p>\n",
       "</div>"
      ],
      "text/plain": [
       "                                              headlines  \\\n",
       "0      Chhattisgarh to start ambulance service for cows   \n",
       "1     Trucks dumping debris on wetlands seized in Mu...   \n",
       "2     Modi pays homage to Indian World War I heroes ...   \n",
       "3     Delhi's domesticated elephants may be shifted ...   \n",
       "4     Ranchi civic body uses 'Sholay' climax to prom...   \n",
       "...                                                 ...   \n",
       "2995  HC stays criminal proceedings against SRK in s...   \n",
       "2996  Samajwadi Party still belongs to me: Mulayam S...   \n",
       "2997  Doctors say abortion not possible for 10-yr-ol...   \n",
       "2998  Logon ka kaam hai kehna: Sonakshi Sinha on mar...   \n",
       "2999  Over 80,000 children 'wasting' from hunger in ...   \n",
       "\n",
       "                                                   text  \n",
       "0     Chhattisgarh Chief Minister Raman Singh on Sun...  \n",
       "1     Mumbai Police on Saturday seized ten trucks an...  \n",
       "2     PM Narendra Modi visited the Haifa Indian Ceme...  \n",
       "3     A forest department report submitted to the Hi...  \n",
       "4     Ranchi Municipal Corporation has used movie Sh...  \n",
       "...                                                 ...  \n",
       "2995  Gujarat High Court has put an interim stay on ...  \n",
       "2996  Samajwadi Party supremo Mulayam Singh Yadav on...  \n",
       "2997  A Chandigarh hospital's doctors ruled out the ...  \n",
       "2998  Actress Sonakshi Sinha, while reacting to repo...  \n",
       "2999  Over 80,000 children under the age of 5 in the...  \n",
       "\n",
       "[3000 rows x 2 columns]"
      ]
     },
     "execution_count": 3,
     "metadata": {},
     "output_type": "execute_result"
    }
   ],
   "source": [
    "df_train.drop('Unnamed: 0', axis = 1, inplace = True)\n",
    "df_train"
   ]
  },
  {
   "cell_type": "code",
   "execution_count": 4,
   "id": "1ccf9477",
   "metadata": {},
   "outputs": [
    {
     "data": {
      "text/html": [
       "<div>\n",
       "<style scoped>\n",
       "    .dataframe tbody tr th:only-of-type {\n",
       "        vertical-align: middle;\n",
       "    }\n",
       "\n",
       "    .dataframe tbody tr th {\n",
       "        vertical-align: top;\n",
       "    }\n",
       "\n",
       "    .dataframe thead th {\n",
       "        text-align: right;\n",
       "    }\n",
       "</style>\n",
       "<table border=\"1\" class=\"dataframe\">\n",
       "  <thead>\n",
       "    <tr style=\"text-align: right;\">\n",
       "      <th></th>\n",
       "      <th>headlines</th>\n",
       "      <th>text</th>\n",
       "    </tr>\n",
       "  </thead>\n",
       "  <tbody>\n",
       "    <tr>\n",
       "      <th>0</th>\n",
       "      <td>Delhi taxi driver returns lost bag with valuab...</td>\n",
       "      <td>Debendra Kapri, a 24-year-old taxi driver, has...</td>\n",
       "    </tr>\n",
       "    <tr>\n",
       "      <th>1</th>\n",
       "      <td>Recall what happened in 1971: Venkaiah Naidu t...</td>\n",
       "      <td>NDA Vice Presidential nominee Venkaiah Naidu o...</td>\n",
       "    </tr>\n",
       "    <tr>\n",
       "      <th>2</th>\n",
       "      <td>Bihar minister abuses PM Modi, calls him a dacoit</td>\n",
       "      <td>A video of Bihar's Minister for Excise and Pro...</td>\n",
       "    </tr>\n",
       "    <tr>\n",
       "      <th>3</th>\n",
       "      <td>6 arrested for blackmailing makers over Baahub...</td>\n",
       "      <td>The cyber crime police of Hyderabad have arres...</td>\n",
       "    </tr>\n",
       "    <tr>\n",
       "      <th>4</th>\n",
       "      <td>Indrani forged Peter?s signature on bank docum...</td>\n",
       "      <td>Sheena Bora murder case accused Indrani Mukerj...</td>\n",
       "    </tr>\n",
       "    <tr>\n",
       "      <th>...</th>\n",
       "      <td>...</td>\n",
       "      <td>...</td>\n",
       "    </tr>\n",
       "    <tr>\n",
       "      <th>796</th>\n",
       "      <td>Delhi civic bodies to jail people for littering</td>\n",
       "      <td>Delhi civic bodies reportedly plan to make the...</td>\n",
       "    </tr>\n",
       "    <tr>\n",
       "      <th>797</th>\n",
       "      <td>Azhar Ali 1st Pak Test batsman to hit 2 200+ s...</td>\n",
       "      <td>Azhar Ali became Pakistan's first Test batsman...</td>\n",
       "    </tr>\n",
       "    <tr>\n",
       "      <th>798</th>\n",
       "      <td>Congress leader shot dead in Maharashtra's Bhi...</td>\n",
       "      <td>A Congress leader was shot dead by a couple of...</td>\n",
       "    </tr>\n",
       "    <tr>\n",
       "      <th>799</th>\n",
       "      <td>Disha shares pics with rumoured boyfriend Tige...</td>\n",
       "      <td>Actress Disha Patani has shared pictures on In...</td>\n",
       "    </tr>\n",
       "    <tr>\n",
       "      <th>800</th>\n",
       "      <td>Adopt broken schools to revamp UP's education:...</td>\n",
       "      <td>UP Chief Minister Yogi Adityanath has ordered ...</td>\n",
       "    </tr>\n",
       "  </tbody>\n",
       "</table>\n",
       "<p>801 rows × 2 columns</p>\n",
       "</div>"
      ],
      "text/plain": [
       "                                             headlines  \\\n",
       "0    Delhi taxi driver returns lost bag with valuab...   \n",
       "1    Recall what happened in 1971: Venkaiah Naidu t...   \n",
       "2    Bihar minister abuses PM Modi, calls him a dacoit   \n",
       "3    6 arrested for blackmailing makers over Baahub...   \n",
       "4    Indrani forged Peter?s signature on bank docum...   \n",
       "..                                                 ...   \n",
       "796    Delhi civic bodies to jail people for littering   \n",
       "797  Azhar Ali 1st Pak Test batsman to hit 2 200+ s...   \n",
       "798  Congress leader shot dead in Maharashtra's Bhi...   \n",
       "799  Disha shares pics with rumoured boyfriend Tige...   \n",
       "800  Adopt broken schools to revamp UP's education:...   \n",
       "\n",
       "                                                  text  \n",
       "0    Debendra Kapri, a 24-year-old taxi driver, has...  \n",
       "1    NDA Vice Presidential nominee Venkaiah Naidu o...  \n",
       "2    A video of Bihar's Minister for Excise and Pro...  \n",
       "3    The cyber crime police of Hyderabad have arres...  \n",
       "4    Sheena Bora murder case accused Indrani Mukerj...  \n",
       "..                                                 ...  \n",
       "796  Delhi civic bodies reportedly plan to make the...  \n",
       "797  Azhar Ali became Pakistan's first Test batsman...  \n",
       "798  A Congress leader was shot dead by a couple of...  \n",
       "799  Actress Disha Patani has shared pictures on In...  \n",
       "800  UP Chief Minister Yogi Adityanath has ordered ...  \n",
       "\n",
       "[801 rows x 2 columns]"
      ]
     },
     "execution_count": 4,
     "metadata": {},
     "output_type": "execute_result"
    }
   ],
   "source": [
    "df_eval = pd.read_csv('../../Datasets/without_ctext/df_eval.csv')\n",
    "df_eval.drop('Unnamed: 0', axis = 1, inplace = True)\n",
    "df_eval"
   ]
  },
  {
   "cell_type": "code",
   "execution_count": 5,
   "id": "da16f289",
   "metadata": {},
   "outputs": [
    {
     "data": {
      "text/html": [
       "<div>\n",
       "<style scoped>\n",
       "    .dataframe tbody tr th:only-of-type {\n",
       "        vertical-align: middle;\n",
       "    }\n",
       "\n",
       "    .dataframe tbody tr th {\n",
       "        vertical-align: top;\n",
       "    }\n",
       "\n",
       "    .dataframe thead th {\n",
       "        text-align: right;\n",
       "    }\n",
       "</style>\n",
       "<table border=\"1\" class=\"dataframe\">\n",
       "  <thead>\n",
       "    <tr style=\"text-align: right;\">\n",
       "      <th></th>\n",
       "      <th>headlines</th>\n",
       "      <th>text</th>\n",
       "    </tr>\n",
       "  </thead>\n",
       "  <tbody>\n",
       "    <tr>\n",
       "      <th>0</th>\n",
       "      <td>Ex-Australian PM sends signed bat to Modi thro...</td>\n",
       "      <td>Former Australian PM Tony Abbott has sent a si...</td>\n",
       "    </tr>\n",
       "    <tr>\n",
       "      <th>1</th>\n",
       "      <td>Nearly 400 judicial officers transferred in Ut...</td>\n",
       "      <td>The Allahabad High Court has transferred aroun...</td>\n",
       "    </tr>\n",
       "    <tr>\n",
       "      <th>2</th>\n",
       "      <td>Big B complains about Vodafone on Twitter, RJi...</td>\n",
       "      <td>Actor Amitabh Bachchan on Tuesday took to Twit...</td>\n",
       "    </tr>\n",
       "    <tr>\n",
       "      <th>3</th>\n",
       "      <td>No interference in Jayalalithaa's treatment: A...</td>\n",
       "      <td>Apollo Hospitals on Tuesday said that there wa...</td>\n",
       "    </tr>\n",
       "    <tr>\n",
       "      <th>4</th>\n",
       "      <td>Varun's pants tear while dancing with contesta...</td>\n",
       "      <td>Actor Varun Dhawan's pants got torn while he w...</td>\n",
       "    </tr>\n",
       "    <tr>\n",
       "      <th>...</th>\n",
       "      <td>...</td>\n",
       "      <td>...</td>\n",
       "    </tr>\n",
       "    <tr>\n",
       "      <th>590</th>\n",
       "      <td>43% employees are in the unorganised sector: Govt</td>\n",
       "      <td>Labour Minister Bandaru Dattatreya has said th...</td>\n",
       "    </tr>\n",
       "    <tr>\n",
       "      <th>591</th>\n",
       "      <td>Dileep arrested in Malayalam actress abduction...</td>\n",
       "      <td>Actor Dileep was arrested on Monday in connect...</td>\n",
       "    </tr>\n",
       "    <tr>\n",
       "      <th>592</th>\n",
       "      <td>Ex-Prez Pranab Mukherjee joins Twitter as @Cit...</td>\n",
       "      <td>Former President Pranab Mukherjee made a perso...</td>\n",
       "    </tr>\n",
       "    <tr>\n",
       "      <th>593</th>\n",
       "      <td>WhatsApp to bring back old text status</td>\n",
       "      <td>A beta version of WhatsApp shows that the mess...</td>\n",
       "    </tr>\n",
       "    <tr>\n",
       "      <th>594</th>\n",
       "      <td>Gujarat Rajya Sabha polls to be held with NOTA...</td>\n",
       "      <td>The Supreme Court today refused to stay the ex...</td>\n",
       "    </tr>\n",
       "  </tbody>\n",
       "</table>\n",
       "<p>595 rows × 2 columns</p>\n",
       "</div>"
      ],
      "text/plain": [
       "                                             headlines  \\\n",
       "0    Ex-Australian PM sends signed bat to Modi thro...   \n",
       "1    Nearly 400 judicial officers transferred in Ut...   \n",
       "2    Big B complains about Vodafone on Twitter, RJi...   \n",
       "3    No interference in Jayalalithaa's treatment: A...   \n",
       "4    Varun's pants tear while dancing with contesta...   \n",
       "..                                                 ...   \n",
       "590  43% employees are in the unorganised sector: Govt   \n",
       "591  Dileep arrested in Malayalam actress abduction...   \n",
       "592  Ex-Prez Pranab Mukherjee joins Twitter as @Cit...   \n",
       "593             WhatsApp to bring back old text status   \n",
       "594  Gujarat Rajya Sabha polls to be held with NOTA...   \n",
       "\n",
       "                                                  text  \n",
       "0    Former Australian PM Tony Abbott has sent a si...  \n",
       "1    The Allahabad High Court has transferred aroun...  \n",
       "2    Actor Amitabh Bachchan on Tuesday took to Twit...  \n",
       "3    Apollo Hospitals on Tuesday said that there wa...  \n",
       "4    Actor Varun Dhawan's pants got torn while he w...  \n",
       "..                                                 ...  \n",
       "590  Labour Minister Bandaru Dattatreya has said th...  \n",
       "591  Actor Dileep was arrested on Monday in connect...  \n",
       "592  Former President Pranab Mukherjee made a perso...  \n",
       "593  A beta version of WhatsApp shows that the mess...  \n",
       "594  The Supreme Court today refused to stay the ex...  \n",
       "\n",
       "[595 rows x 2 columns]"
      ]
     },
     "execution_count": 5,
     "metadata": {},
     "output_type": "execute_result"
    }
   ],
   "source": [
    "df_test = pd.read_csv('../../Datasets/without_ctext/df_test.csv')\n",
    "df_test.drop('Unnamed: 0', axis = 1, inplace = True)\n",
    "df_test"
   ]
  },
  {
   "cell_type": "code",
   "execution_count": 6,
   "id": "2b18b4db",
   "metadata": {},
   "outputs": [],
   "source": [
    "df_train = Dataset.from_pandas(df_train)\n",
    "df_eval = Dataset.from_pandas(df_eval)\n",
    "df_test = Dataset.from_pandas(df_test)"
   ]
  },
  {
   "cell_type": "markdown",
   "id": "fa40dd49",
   "metadata": {},
   "source": [
    "### model building and parameters"
   ]
  },
  {
   "cell_type": "code",
   "execution_count": null,
   "id": "b038cb7c",
   "metadata": {},
   "outputs": [
    {
     "name": "stderr",
     "output_type": "stream",
     "text": [
      "c:\\Users\\lenovo\\anaconda3\\envs\\tfenv\\lib\\site-packages\\huggingface_hub\\file_download.py:143: UserWarning: `huggingface_hub` cache-system uses symlinks by default to efficiently store duplicated files but your machine does not support them in C:\\Users\\lenovo\\.cache\\huggingface\\hub\\models--google--pegasus-cnn_dailymail. Caching files will still work but in a degraded version that might require more space on your disk. This warning can be disabled by setting the `HF_HUB_DISABLE_SYMLINKS_WARNING` environment variable. For more details, see https://huggingface.co/docs/huggingface_hub/how-to-cache#limitations.\n",
      "To support symlinks on Windows, you either need to activate Developer Mode or to run Python as an administrator. In order to activate developer mode, see this article: https://docs.microsoft.com/en-us/windows/apps/get-started/enable-your-device-for-development\n",
      "  warnings.warn(message)\n"
     ]
    }
   ],
   "source": [
    "model_name = 'google/pegasus-cnn_dailymail'\n",
    "tokenizer = PegasusTokenizer.from_pretrained(model_name)\n",
    "model = PegasusForConditionalGeneration.from_pretrained(model_name)"
   ]
  },
  {
   "cell_type": "code",
   "execution_count": 13,
   "id": "89c85768",
   "metadata": {},
   "outputs": [],
   "source": [
    "def preprocess(examples):\n",
    "    model_inputs = tokenizer(\n",
    "        examples[\"text\"],\n",
    "        max_length=512,\n",
    "        truncation=True,\n",
    "        padding=\"max_length\"\n",
    "    )\n",
    "\n",
    "    with tokenizer.as_target_tokenizer():\n",
    "        labels = tokenizer(\n",
    "            examples[\"headlines\"],\n",
    "            max_length=64,\n",
    "            truncation=True,\n",
    "            padding=\"max_length\"\n",
    "        )\n",
    "    model_inputs[\"labels\"] = labels[\"input_ids\"]\n",
    "    return model_inputs"
   ]
  },
  {
   "cell_type": "code",
   "execution_count": 14,
   "id": "daa8486c",
   "metadata": {},
   "outputs": [
    {
     "name": "stderr",
     "output_type": "stream",
     "text": [
      "Map:   0%|          | 0/3000 [00:00<?, ? examples/s]c:\\Users\\lenovo\\anaconda3\\envs\\tfenv\\lib\\site-packages\\transformers\\tokenization_utils_base.py:4007: UserWarning: `as_target_tokenizer` is deprecated and will be removed in v5 of Transformers. You can tokenize your labels by using the argument `text_target` of the regular `__call__` method (either in the same call as your input texts if you use the same keyword arguments, or in a separate call.\n",
      "  warnings.warn(\n",
      "Map: 100%|██████████| 3000/3000 [00:02<00:00, 1309.48 examples/s]\n",
      "Map: 100%|██████████| 801/801 [00:00<00:00, 1306.37 examples/s]\n",
      "Map: 100%|██████████| 595/595 [00:00<00:00, 1340.32 examples/s]\n"
     ]
    }
   ],
   "source": [
    "train_data = df_train.map(preprocess, batched = True)\n",
    "eval_data = df_eval.map(preprocess, batched = True)\n",
    "test_data = df_test.map(preprocess, batched = True)"
   ]
  },
  {
   "cell_type": "code",
   "execution_count": 15,
   "id": "0c39e0f5",
   "metadata": {},
   "outputs": [],
   "source": [
    "datacollator = DataCollatorForSeq2Seq(tokenizer, model = model)"
   ]
  },
  {
   "cell_type": "code",
   "execution_count": 16,
   "id": "70389022",
   "metadata": {},
   "outputs": [],
   "source": [
    "training_args = TrainingArguments(\n",
    "    output_dir = './results_without_ctext',\n",
    "    eval_strategy = 'epoch',\n",
    "    learning_rate = 2e-5,\n",
    "    num_train_epochs = 1,\n",
    "    per_device_train_batch_size = 64,\n",
    "    per_device_eval_batch_size = 64,\n",
    "    do_predict = True,\n",
    "    save_total_limit = 2,\n",
    "    logging_dir = './logs_without_ctext'\n",
    ")"
   ]
  },
  {
   "cell_type": "code",
   "execution_count": 17,
   "id": "696ba1d8",
   "metadata": {},
   "outputs": [
    {
     "name": "stderr",
     "output_type": "stream",
     "text": [
      "C:\\Users\\lenovo\\AppData\\Local\\Temp\\ipykernel_10728\\1410209807.py:1: FutureWarning: `tokenizer` is deprecated and will be removed in version 5.0.0 for `Trainer.__init__`. Use `processing_class` instead.\n",
      "  trainer = Trainer(\n"
     ]
    }
   ],
   "source": [
    "trainer = Trainer(\n",
    "    model = model, \n",
    "    args = training_args,\n",
    "    tokenizer = tokenizer,\n",
    "    train_dataset = train_data,\n",
    "    eval_dataset = eval_data,\n",
    "    data_collator = datacollator\n",
    ")"
   ]
  },
  {
   "cell_type": "code",
   "execution_count": 18,
   "id": "a811d342",
   "metadata": {},
   "outputs": [
    {
     "name": "stderr",
     "output_type": "stream",
     "text": [
      "The tokenizer has new PAD/BOS/EOS tokens that differ from the model config and generation config. The model config and generation config were aligned accordingly, being updated with the tokenizer's values. Updated tokens: {'bos_token_id': None}.\n",
      "c:\\Users\\lenovo\\anaconda3\\envs\\tfenv\\lib\\site-packages\\torch\\utils\\data\\dataloader.py:666: UserWarning: 'pin_memory' argument is set as true but no accelerator is found, then device pinned memory won't be used.\n",
      "  warnings.warn(warn_msg)\n"
     ]
    },
    {
     "ename": "",
     "evalue": "",
     "output_type": "error",
     "traceback": [
      "\u001b[1;31mThe Kernel crashed while executing code in the current cell or a previous cell. \n",
      "\u001b[1;31mPlease review the code in the cell(s) to identify a possible cause of the failure. \n",
      "\u001b[1;31mClick <a href='https://aka.ms/vscodeJupyterKernelCrash'>here</a> for more info. \n",
      "\u001b[1;31mView Jupyter <a href='command:jupyter.viewOutput'>log</a> for further details."
     ]
    }
   ],
   "source": [
    "trainer.train()"
   ]
  },
  {
   "cell_type": "code",
   "execution_count": null,
   "id": "28ee1d29",
   "metadata": {},
   "outputs": [],
   "source": []
  },
  {
   "cell_type": "code",
   "execution_count": null,
   "id": "37b38a4b",
   "metadata": {},
   "outputs": [],
   "source": []
  },
  {
   "cell_type": "code",
   "execution_count": null,
   "id": "0fa29a60",
   "metadata": {},
   "outputs": [],
   "source": []
  },
  {
   "cell_type": "code",
   "execution_count": null,
   "id": "036ac6b0",
   "metadata": {},
   "outputs": [],
   "source": []
  },
  {
   "cell_type": "code",
   "execution_count": null,
   "id": "30e008aa",
   "metadata": {},
   "outputs": [],
   "source": []
  },
  {
   "cell_type": "code",
   "execution_count": null,
   "id": "39f2f1a0",
   "metadata": {},
   "outputs": [],
   "source": []
  },
  {
   "cell_type": "code",
   "execution_count": null,
   "id": "f6a7e666",
   "metadata": {},
   "outputs": [],
   "source": []
  },
  {
   "cell_type": "code",
   "execution_count": null,
   "id": "554a0ee1",
   "metadata": {},
   "outputs": [],
   "source": []
  },
  {
   "cell_type": "code",
   "execution_count": null,
   "id": "ddd8da72",
   "metadata": {},
   "outputs": [],
   "source": []
  },
  {
   "cell_type": "code",
   "execution_count": null,
   "id": "ff71ff44",
   "metadata": {},
   "outputs": [],
   "source": []
  },
  {
   "cell_type": "code",
   "execution_count": null,
   "id": "f51833a1",
   "metadata": {},
   "outputs": [],
   "source": []
  },
  {
   "cell_type": "code",
   "execution_count": null,
   "id": "9070bc22",
   "metadata": {},
   "outputs": [],
   "source": []
  },
  {
   "cell_type": "code",
   "execution_count": null,
   "id": "2a038d6c",
   "metadata": {},
   "outputs": [],
   "source": []
  },
  {
   "cell_type": "code",
   "execution_count": null,
   "id": "ea82056d",
   "metadata": {},
   "outputs": [],
   "source": []
  },
  {
   "cell_type": "code",
   "execution_count": null,
   "id": "7bd123bd",
   "metadata": {},
   "outputs": [],
   "source": []
  },
  {
   "cell_type": "code",
   "execution_count": null,
   "id": "4654cef3",
   "metadata": {},
   "outputs": [],
   "source": []
  },
  {
   "cell_type": "code",
   "execution_count": null,
   "id": "e821e38c",
   "metadata": {},
   "outputs": [],
   "source": []
  },
  {
   "cell_type": "code",
   "execution_count": null,
   "id": "d074269c",
   "metadata": {},
   "outputs": [],
   "source": []
  },
  {
   "cell_type": "code",
   "execution_count": null,
   "id": "1eabc556",
   "metadata": {},
   "outputs": [],
   "source": []
  },
  {
   "cell_type": "code",
   "execution_count": null,
   "id": "a47dcf2b",
   "metadata": {},
   "outputs": [],
   "source": []
  }
 ],
 "metadata": {
  "kernelspec": {
   "display_name": "tfenv",
   "language": "python",
   "name": "python3"
  },
  "language_info": {
   "codemirror_mode": {
    "name": "ipython",
    "version": 3
   },
   "file_extension": ".py",
   "mimetype": "text/x-python",
   "name": "python",
   "nbconvert_exporter": "python",
   "pygments_lexer": "ipython3",
   "version": "3.10.18"
  }
 },
 "nbformat": 4,
 "nbformat_minor": 5
}
