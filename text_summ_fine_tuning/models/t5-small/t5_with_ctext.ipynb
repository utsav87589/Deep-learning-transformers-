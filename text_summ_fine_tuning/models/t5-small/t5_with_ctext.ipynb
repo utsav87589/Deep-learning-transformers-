{
 "cells": [
  {
   "cell_type": "markdown",
   "id": "0b71787b",
   "metadata": {},
   "source": [
    "## T5 Model"
   ]
  },
  {
   "cell_type": "markdown",
   "id": "24f6b742",
   "metadata": {},
   "source": [
    "### Importing librariers"
   ]
  },
  {
   "cell_type": "code",
   "execution_count": 1,
   "id": "7bf07643",
   "metadata": {},
   "outputs": [
    {
     "name": "stderr",
     "output_type": "stream",
     "text": [
      "c:\\Users\\lenovo\\anaconda3\\envs\\tfenv\\lib\\site-packages\\tqdm\\auto.py:21: TqdmWarning: IProgress not found. Please update jupyter and ipywidgets. See https://ipywidgets.readthedocs.io/en/stable/user_install.html\n",
      "  from .autonotebook import tqdm as notebook_tqdm\n"
     ]
    }
   ],
   "source": [
    "import pandas as pd\n",
    "import numpy as np\n",
    "from datasets import Dataset\n",
    "from transformers import AutoTokenizer, AutoModelForSeq2SeqLM, Trainer, TrainingArguments, DataCollatorForSeq2Seq\n",
    "from evaluate import load"
   ]
  },
  {
   "cell_type": "markdown",
   "id": "bc14ed3f",
   "metadata": {},
   "source": [
    "### importing the data"
   ]
  },
  {
   "cell_type": "code",
   "execution_count": 2,
   "id": "45a48597",
   "metadata": {},
   "outputs": [
    {
     "data": {
      "text/html": [
       "<div>\n",
       "<style scoped>\n",
       "    .dataframe tbody tr th:only-of-type {\n",
       "        vertical-align: middle;\n",
       "    }\n",
       "\n",
       "    .dataframe tbody tr th {\n",
       "        vertical-align: top;\n",
       "    }\n",
       "\n",
       "    .dataframe thead th {\n",
       "        text-align: right;\n",
       "    }\n",
       "</style>\n",
       "<table border=\"1\" class=\"dataframe\">\n",
       "  <thead>\n",
       "    <tr style=\"text-align: right;\">\n",
       "      <th></th>\n",
       "      <th>headlines</th>\n",
       "      <th>ctext</th>\n",
       "    </tr>\n",
       "  </thead>\n",
       "  <tbody>\n",
       "    <tr>\n",
       "      <th>0</th>\n",
       "      <td>Chhattisgarh to start ambulance service for cows</td>\n",
       "      <td>The Chhattisgarh government will begin an amb...</td>\n",
       "    </tr>\n",
       "    <tr>\n",
       "      <th>1</th>\n",
       "      <td>Trucks dumping debris on wetlands seized in Mu...</td>\n",
       "      <td>Ten trucks and an excavator machine that were ...</td>\n",
       "    </tr>\n",
       "    <tr>\n",
       "      <th>2</th>\n",
       "      <td>Modi pays homage to Indian World War I heroes ...</td>\n",
       "      <td>On the last day of his three-day trip to Israe...</td>\n",
       "    </tr>\n",
       "    <tr>\n",
       "      <th>3</th>\n",
       "      <td>Delhi's domesticated elephants may be shifted ...</td>\n",
       "      <td>Delhi could soon lose all its seven elephants ...</td>\n",
       "    </tr>\n",
       "    <tr>\n",
       "      <th>4</th>\n",
       "      <td>Ranchi civic body uses 'Sholay' climax to prom...</td>\n",
       "      <td>The Ranchi Nagar Nigam has upped the ante with...</td>\n",
       "    </tr>\n",
       "  </tbody>\n",
       "</table>\n",
       "</div>"
      ],
      "text/plain": [
       "                                           headlines                                              ctext\n",
       "0   Chhattisgarh to start ambulance service for cows   The Chhattisgarh government will begin an amb...\n",
       "1  Trucks dumping debris on wetlands seized in Mu...  Ten trucks and an excavator machine that were ...\n",
       "2  Modi pays homage to Indian World War I heroes ...  On the last day of his three-day trip to Israe...\n",
       "3  Delhi's domesticated elephants may be shifted ...  Delhi could soon lose all its seven elephants ...\n",
       "4  Ranchi civic body uses 'Sholay' climax to prom...  The Ranchi Nagar Nigam has upped the ante with..."
      ]
     },
     "execution_count": 2,
     "metadata": {},
     "output_type": "execute_result"
    }
   ],
   "source": [
    "df_train = pd.read_csv('../../Datasets/with_ctext/df_train.csv')\n",
    "df_train.drop('Unnamed: 0', axis = 1, inplace = True)\n",
    "df_train.head()"
   ]
  },
  {
   "cell_type": "code",
   "execution_count": 3,
   "id": "e0dc2399",
   "metadata": {},
   "outputs": [
    {
     "data": {
      "text/html": [
       "<div>\n",
       "<style scoped>\n",
       "    .dataframe tbody tr th:only-of-type {\n",
       "        vertical-align: middle;\n",
       "    }\n",
       "\n",
       "    .dataframe tbody tr th {\n",
       "        vertical-align: top;\n",
       "    }\n",
       "\n",
       "    .dataframe thead th {\n",
       "        text-align: right;\n",
       "    }\n",
       "</style>\n",
       "<table border=\"1\" class=\"dataframe\">\n",
       "  <thead>\n",
       "    <tr style=\"text-align: right;\">\n",
       "      <th></th>\n",
       "      <th>headlines</th>\n",
       "      <th>ctext</th>\n",
       "    </tr>\n",
       "  </thead>\n",
       "  <tbody>\n",
       "    <tr>\n",
       "      <th>0</th>\n",
       "      <td>Delhi taxi driver returns lost bag with valuab...</td>\n",
       "      <td>A 24-year-old kaali-peeli taxi driver Debendra...</td>\n",
       "    </tr>\n",
       "    <tr>\n",
       "      <th>1</th>\n",
       "      <td>Recall what happened in 1971: Venkaiah Naidu t...</td>\n",
       "      <td>Hitting out at Pakistan-sponsored terrorism, N...</td>\n",
       "    </tr>\n",
       "    <tr>\n",
       "      <th>2</th>\n",
       "      <td>Bihar minister abuses PM Modi, calls him a dacoit</td>\n",
       "      <td>Bihar's minister for excise and prohibition Ab...</td>\n",
       "    </tr>\n",
       "    <tr>\n",
       "      <th>3</th>\n",
       "      <td>6 arrested for blackmailing makers over Baahub...</td>\n",
       "      <td>The cyber crime police of Hyderabad have arres...</td>\n",
       "    </tr>\n",
       "    <tr>\n",
       "      <th>4</th>\n",
       "      <td>Indrani forged Peter?s signature on bank docum...</td>\n",
       "      <td>A special CBI court on Wednesday asked banks t...</td>\n",
       "    </tr>\n",
       "  </tbody>\n",
       "</table>\n",
       "</div>"
      ],
      "text/plain": [
       "                                           headlines                                              ctext\n",
       "0  Delhi taxi driver returns lost bag with valuab...  A 24-year-old kaali-peeli taxi driver Debendra...\n",
       "1  Recall what happened in 1971: Venkaiah Naidu t...  Hitting out at Pakistan-sponsored terrorism, N...\n",
       "2  Bihar minister abuses PM Modi, calls him a dacoit  Bihar's minister for excise and prohibition Ab...\n",
       "3  6 arrested for blackmailing makers over Baahub...  The cyber crime police of Hyderabad have arres...\n",
       "4  Indrani forged Peter?s signature on bank docum...  A special CBI court on Wednesday asked banks t..."
      ]
     },
     "execution_count": 3,
     "metadata": {},
     "output_type": "execute_result"
    }
   ],
   "source": [
    "df_eval = pd.read_csv('../../Datasets/with_ctext/df_eval.csv')\n",
    "df_eval.drop('Unnamed: 0', axis = 1, inplace = True)\n",
    "df_eval.head()"
   ]
  },
  {
   "cell_type": "code",
   "execution_count": 6,
   "id": "3681a235",
   "metadata": {},
   "outputs": [
    {
     "data": {
      "text/html": [
       "<div>\n",
       "<style scoped>\n",
       "    .dataframe tbody tr th:only-of-type {\n",
       "        vertical-align: middle;\n",
       "    }\n",
       "\n",
       "    .dataframe tbody tr th {\n",
       "        vertical-align: top;\n",
       "    }\n",
       "\n",
       "    .dataframe thead th {\n",
       "        text-align: right;\n",
       "    }\n",
       "</style>\n",
       "<table border=\"1\" class=\"dataframe\">\n",
       "  <thead>\n",
       "    <tr style=\"text-align: right;\">\n",
       "      <th></th>\n",
       "      <th>headlines</th>\n",
       "      <th>ctext</th>\n",
       "    </tr>\n",
       "  </thead>\n",
       "  <tbody>\n",
       "    <tr>\n",
       "      <th>0</th>\n",
       "      <td>Ex-Australian PM sends signed bat to Modi thro...</td>\n",
       "      <td>These days if you just happen to wait outside ...</td>\n",
       "    </tr>\n",
       "    <tr>\n",
       "      <th>1</th>\n",
       "      <td>Nearly 400 judicial officers transferred in Ut...</td>\n",
       "      <td>Allahabad, Apr 29 (PTI) The Allahabad High Cou...</td>\n",
       "    </tr>\n",
       "    <tr>\n",
       "      <th>2</th>\n",
       "      <td>Big B complains about Vodafone on Twitter, RJi...</td>\n",
       "      <td>Bollywood actor Amitabh Bachchan has at least ...</td>\n",
       "    </tr>\n",
       "    <tr>\n",
       "      <th>3</th>\n",
       "      <td>No interference in Jayalalithaa's treatment: A...</td>\n",
       "      <td>Apollo Hospitals said on Tuesday there was ?no...</td>\n",
       "    </tr>\n",
       "    <tr>\n",
       "      <th>4</th>\n",
       "      <td>Varun's pants tear while dancing with contesta...</td>\n",
       "      <td>Varun Dhawan and Alia Bhatt have been frequent...</td>\n",
       "    </tr>\n",
       "  </tbody>\n",
       "</table>\n",
       "</div>"
      ],
      "text/plain": [
       "                                           headlines                                              ctext\n",
       "0  Ex-Australian PM sends signed bat to Modi thro...  These days if you just happen to wait outside ...\n",
       "1  Nearly 400 judicial officers transferred in Ut...  Allahabad, Apr 29 (PTI) The Allahabad High Cou...\n",
       "2  Big B complains about Vodafone on Twitter, RJi...  Bollywood actor Amitabh Bachchan has at least ...\n",
       "3  No interference in Jayalalithaa's treatment: A...  Apollo Hospitals said on Tuesday there was ?no...\n",
       "4  Varun's pants tear while dancing with contesta...  Varun Dhawan and Alia Bhatt have been frequent..."
      ]
     },
     "execution_count": 6,
     "metadata": {},
     "output_type": "execute_result"
    }
   ],
   "source": [
    "df_test = pd.read_csv('../../Datasets/with_ctext/df_test.csv')\n",
    "df_test.drop('Unnamed: 0', axis = 1, inplace = True)\n",
    "df_test.head()"
   ]
  },
  {
   "cell_type": "code",
   "execution_count": 7,
   "id": "06affd82",
   "metadata": {},
   "outputs": [
    {
     "name": "stdout",
     "output_type": "stream",
     "text": [
      "60 :: 1704\n"
     ]
    }
   ],
   "source": [
    "print(f\"{len(df_test['headlines'][0])} :: {len(df_test['ctext'][0])}\")"
   ]
  },
  {
   "cell_type": "code",
   "execution_count": 8,
   "id": "f7afe912",
   "metadata": {},
   "outputs": [],
   "source": [
    "ref_summary = df_test['headlines']"
   ]
  },
  {
   "cell_type": "code",
   "execution_count": 10,
   "id": "b145dc75",
   "metadata": {},
   "outputs": [],
   "source": [
    "df_train = Dataset.from_pandas(df_train)\n",
    "df_eval = Dataset.from_pandas(df_eval)\n",
    "df_test = Dataset.from_pandas(df_test)"
   ]
  },
  {
   "cell_type": "markdown",
   "id": "a0bf192f",
   "metadata": {},
   "source": [
    "### model and maping"
   ]
  },
  {
   "cell_type": "code",
   "execution_count": 11,
   "id": "42c06d26",
   "metadata": {},
   "outputs": [],
   "source": [
    "model_name = 't5-small'\n",
    "tokenizer = AutoTokenizer.from_pretrained(model_name)\n",
    "model = AutoModelForSeq2SeqLM.from_pretrained(model_name)"
   ]
  },
  {
   "cell_type": "code",
   "execution_count": 15,
   "id": "563e4cc8",
   "metadata": {},
   "outputs": [],
   "source": [
    "data_collator = DataCollatorForSeq2Seq(tokenizer, model = model)"
   ]
  },
  {
   "cell_type": "code",
   "execution_count": 16,
   "id": "81921fad",
   "metadata": {},
   "outputs": [],
   "source": [
    "def preprocess(data) : \n",
    "    model_inputs = tokenizer(\n",
    "        data['ctext'], max_length = 1800, truncation = True\n",
    "    )\n",
    "    labels = tokenizer(\n",
    "        data['headlines'], max_length = 30, truncation = True\n",
    "    )\n",
    "\n",
    "    model_inputs['labels'] = labels['input_ids']\n",
    "    return model_inputs"
   ]
  },
  {
   "cell_type": "code",
   "execution_count": 17,
   "id": "b74afc82",
   "metadata": {},
   "outputs": [
    {
     "name": "stderr",
     "output_type": "stream",
     "text": [
      "Map: 100%|██████████| 3000/3000 [00:01<00:00, 2116.00 examples/s]\n"
     ]
    }
   ],
   "source": [
    "train_data = df_train.map(preprocess, batched = True)"
   ]
  },
  {
   "cell_type": "code",
   "execution_count": 18,
   "id": "f2d2c5c9",
   "metadata": {},
   "outputs": [
    {
     "name": "stderr",
     "output_type": "stream",
     "text": [
      "Map: 100%|██████████| 801/801 [00:00<00:00, 1785.03 examples/s]\n",
      "Map: 100%|██████████| 595/595 [00:00<00:00, 2055.67 examples/s]\n"
     ]
    }
   ],
   "source": [
    "eval_data = df_eval.map(preprocess, batched = True)\n",
    "test_data = df_test.map(preprocess, batched = True)"
   ]
  },
  {
   "cell_type": "markdown",
   "id": "2f27460a",
   "metadata": {},
   "source": [
    "### trainer and traning arguments"
   ]
  },
  {
   "cell_type": "code",
   "execution_count": 19,
   "id": "9d73bb3c",
   "metadata": {},
   "outputs": [],
   "source": [
    "training_args = TrainingArguments(\n",
    "    output_dir = './results_with_ctext',\n",
    "    eval_strategy = 'epoch',\n",
    "    learning_rate = 2e-5,\n",
    "    per_device_eval_batch_size = 128,\n",
    "    per_device_train_batch_size = 128,\n",
    "    num_train_epochs = 1,\n",
    "    do_predict = True,\n",
    "    save_total_limit = 2,\n",
    "    logging_dir = './logs_with_ctext'\n",
    ")"
   ]
  },
  {
   "cell_type": "code",
   "execution_count": 20,
   "id": "dd030f03",
   "metadata": {},
   "outputs": [
    {
     "name": "stderr",
     "output_type": "stream",
     "text": [
      "C:\\Users\\lenovo\\AppData\\Local\\Temp\\ipykernel_16232\\1093563536.py:1: FutureWarning: `tokenizer` is deprecated and will be removed in version 5.0.0 for `Trainer.__init__`. Use `processing_class` instead.\n",
      "  trainer = Trainer(\n"
     ]
    }
   ],
   "source": [
    "trainer = Trainer(\n",
    "    args = training_args,\n",
    "    model = model,\n",
    "    tokenizer = tokenizer,\n",
    "    train_dataset = train_data,\n",
    "    eval_dataset = eval_data,\n",
    "    data_collator = data_collator\n",
    ")"
   ]
  },
  {
   "cell_type": "code",
   "execution_count": null,
   "id": "1c47cdfc",
   "metadata": {},
   "outputs": [
    {
     "name": "stderr",
     "output_type": "stream",
     "text": [
      "c:\\Users\\lenovo\\anaconda3\\envs\\tfenv\\lib\\site-packages\\torch\\utils\\data\\dataloader.py:666: UserWarning: 'pin_memory' argument is set as true but no accelerator is found, then device pinned memory won't be used.\n",
      "  warnings.warn(warn_msg)\n"
     ]
    }
   ],
   "source": [
    "trainer.train()"
   ]
  },
  {
   "cell_type": "code",
   "execution_count": null,
   "id": "168f420a",
   "metadata": {},
   "outputs": [],
   "source": []
  },
  {
   "cell_type": "code",
   "execution_count": null,
   "id": "e3171e86",
   "metadata": {},
   "outputs": [],
   "source": []
  },
  {
   "cell_type": "code",
   "execution_count": null,
   "id": "9a735ce2",
   "metadata": {},
   "outputs": [],
   "source": []
  },
  {
   "cell_type": "code",
   "execution_count": null,
   "id": "cfa6e9ea",
   "metadata": {},
   "outputs": [],
   "source": []
  },
  {
   "cell_type": "code",
   "execution_count": null,
   "id": "23057914",
   "metadata": {},
   "outputs": [],
   "source": []
  },
  {
   "cell_type": "code",
   "execution_count": null,
   "id": "3ed2a533",
   "metadata": {},
   "outputs": [],
   "source": []
  },
  {
   "cell_type": "code",
   "execution_count": null,
   "id": "95b608e9",
   "metadata": {},
   "outputs": [],
   "source": []
  },
  {
   "cell_type": "code",
   "execution_count": null,
   "id": "2ab80122",
   "metadata": {},
   "outputs": [],
   "source": []
  },
  {
   "cell_type": "code",
   "execution_count": null,
   "id": "56816157",
   "metadata": {},
   "outputs": [],
   "source": []
  },
  {
   "cell_type": "code",
   "execution_count": null,
   "id": "a97413b9",
   "metadata": {},
   "outputs": [],
   "source": []
  },
  {
   "cell_type": "code",
   "execution_count": null,
   "id": "37d02fd2",
   "metadata": {},
   "outputs": [],
   "source": []
  },
  {
   "cell_type": "code",
   "execution_count": null,
   "id": "baa6ab82",
   "metadata": {},
   "outputs": [],
   "source": []
  },
  {
   "cell_type": "code",
   "execution_count": null,
   "id": "2511e62c",
   "metadata": {},
   "outputs": [],
   "source": []
  },
  {
   "cell_type": "code",
   "execution_count": null,
   "id": "3cd7f5e3",
   "metadata": {},
   "outputs": [],
   "source": []
  },
  {
   "cell_type": "code",
   "execution_count": null,
   "id": "e5e92bb7",
   "metadata": {},
   "outputs": [],
   "source": []
  },
  {
   "cell_type": "code",
   "execution_count": null,
   "id": "853d271c",
   "metadata": {},
   "outputs": [],
   "source": []
  },
  {
   "cell_type": "code",
   "execution_count": null,
   "id": "099ec67e",
   "metadata": {},
   "outputs": [],
   "source": []
  },
  {
   "cell_type": "code",
   "execution_count": null,
   "id": "23fdc5a5",
   "metadata": {},
   "outputs": [],
   "source": []
  },
  {
   "cell_type": "code",
   "execution_count": null,
   "id": "f52855c7",
   "metadata": {},
   "outputs": [],
   "source": []
  },
  {
   "cell_type": "code",
   "execution_count": null,
   "id": "f774cea1",
   "metadata": {},
   "outputs": [],
   "source": []
  },
  {
   "cell_type": "code",
   "execution_count": null,
   "id": "dac715cd",
   "metadata": {},
   "outputs": [],
   "source": []
  },
  {
   "cell_type": "code",
   "execution_count": null,
   "id": "3e731266",
   "metadata": {},
   "outputs": [],
   "source": []
  },
  {
   "cell_type": "code",
   "execution_count": null,
   "id": "9f52d3fe",
   "metadata": {},
   "outputs": [],
   "source": []
  },
  {
   "cell_type": "code",
   "execution_count": null,
   "id": "7a9a4f2e",
   "metadata": {},
   "outputs": [],
   "source": []
  },
  {
   "cell_type": "code",
   "execution_count": null,
   "id": "8520306a",
   "metadata": {},
   "outputs": [],
   "source": []
  },
  {
   "cell_type": "code",
   "execution_count": null,
   "id": "5bb85290",
   "metadata": {},
   "outputs": [],
   "source": []
  },
  {
   "cell_type": "code",
   "execution_count": null,
   "id": "ea6463ce",
   "metadata": {},
   "outputs": [],
   "source": []
  },
  {
   "cell_type": "code",
   "execution_count": null,
   "id": "a6a57dc1",
   "metadata": {},
   "outputs": [],
   "source": []
  }
 ],
 "metadata": {
  "kernelspec": {
   "display_name": "tfenv",
   "language": "python",
   "name": "python3"
  },
  "language_info": {
   "codemirror_mode": {
    "name": "ipython",
    "version": 3
   },
   "file_extension": ".py",
   "mimetype": "text/x-python",
   "name": "python",
   "nbconvert_exporter": "python",
   "pygments_lexer": "ipython3",
   "version": "3.10.18"
  }
 },
 "nbformat": 4,
 "nbformat_minor": 5
}
